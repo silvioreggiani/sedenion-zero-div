{
 "cells": [
  {
   "cell_type": "code",
   "execution_count": 1,
   "id": "30973e9f-4b35-410d-bd61-f95ebf3840fb",
   "metadata": {},
   "outputs": [
    {
     "data": {
      "text/html": [
       "<html>\\(\\displaystyle \\verb|SageMath|\\verb| |\\verb|version|\\verb| |\\verb|10.4,|\\verb| |\\verb|Release|\\verb| |\\verb|Date:|\\verb| |\\verb|2024-07-19|\\)</html>"
      ],
      "text/latex": [
       "$\\displaystyle \\verb|SageMath|\\verb| |\\verb|version|\\verb| |\\verb|10.4,|\\verb| |\\verb|Release|\\verb| |\\verb|Date:|\\verb| |\\verb|2024-07-19|$"
      ],
      "text/plain": [
       "'SageMath version 10.4, Release Date: 2024-07-19'"
      ]
     },
     "execution_count": 1,
     "metadata": {},
     "output_type": "execute_result"
    }
   ],
   "source": [
    "# SageMath version at least 10.4\n",
    "%display latex\n",
    "version()"
   ]
  },
  {
   "cell_type": "code",
   "execution_count": 2,
   "id": "4a633c59-0f46-4611-bede-a78437196194",
   "metadata": {},
   "outputs": [],
   "source": [
    "load(\"cayley-dickson.sage\", \"lie-algebras.sage\")"
   ]
  },
  {
   "cell_type": "markdown",
   "id": "254a5c76-5203-452f-b55e-9d3ce6181dcb",
   "metadata": {},
   "source": [
    "## The Lie algebra of $\\mathfrak g_2$"
   ]
  },
  {
   "cell_type": "markdown",
   "id": "4145df6c-737b-48c2-bdda-f02f0f6ed68f",
   "metadata": {},
   "source": [
    "We consider the following orthonormal basis (with respect to the bi-invariant metric) $X_0, \\ldots, X_{13}$ of $\\mathfrak g_2$."
   ]
  },
  {
   "cell_type": "code",
   "execution_count": 3,
   "id": "b8c23ce0-b20d-4d5b-9849-6672ca157a02",
   "metadata": {},
   "outputs": [],
   "source": [
    "on_basis_biinv = load(\"on_basis.sobj\")\n",
    "\n",
    "#for X in on_basis_biinv:\n",
    "#    show(X)"
   ]
  },
  {
   "cell_type": "markdown",
   "id": "e54cc2c0-f985-46a9-be58-f48daf138718",
   "metadata": {},
   "source": [
    "We check for orthonormality."
   ]
  },
  {
   "cell_type": "code",
   "execution_count": 4,
   "id": "d71cf1f6-3748-4dcc-9024-53841ad0212a",
   "metadata": {},
   "outputs": [
    {
     "data": {
      "text/html": [
       "<html>\\(\\displaystyle \\mathrm{True}\\)</html>"
      ],
      "text/latex": [
       "$\\displaystyle \\mathrm{True}$"
      ],
      "text/plain": [
       "True"
      ]
     },
     "execution_count": 4,
     "metadata": {},
     "output_type": "execute_result"
    }
   ],
   "source": [
    "matrix(14, 14, lambda i, j: biinv_metric(on_basis_biinv[i], on_basis_biinv[j])) == identity_matrix(14)"
   ]
  },
  {
   "cell_type": "markdown",
   "id": "7efad9e1-d41e-46f8-a9b7-2c73ab5258c4",
   "metadata": {},
   "source": [
    "We check that `on_basis_biinv` spans a Lie subalgebra."
   ]
  },
  {
   "cell_type": "code",
   "execution_count": 5,
   "id": "f9cd135e-867b-44bf-aade-a283076e94dc",
   "metadata": {},
   "outputs": [
    {
     "data": {
      "text/html": [
       "<html>\\(\\displaystyle \\mathrm{True}\\)</html>"
      ],
      "text/latex": [
       "$\\displaystyle \\mathrm{True}$"
      ],
      "text/plain": [
       "True"
      ]
     },
     "execution_count": 5,
     "metadata": {},
     "output_type": "execute_result"
    }
   ],
   "source": [
    "is_lie_algebra(on_basis_biinv)"
   ]
  },
  {
   "cell_type": "markdown",
   "id": "8e40096c-a625-4ee0-ae26-3bdf21c690b0",
   "metadata": {},
   "source": [
    "We check that such a Lie subalgebra is indeed the Lie algebra $\\mathfrak g_2$ by showing that every element is a derivation of the octonion algebra $\\mathbb O$."
   ]
  },
  {
   "cell_type": "code",
   "execution_count": 6,
   "id": "6db34f10-6db5-41a1-9da2-5e3726e0c9af",
   "metadata": {},
   "outputs": [
    {
     "data": {
      "text/html": [
       "<html>\\(\\displaystyle \\mathrm{True}\\)</html>"
      ],
      "text/latex": [
       "$\\displaystyle \\mathrm{True}$"
      ],
      "text/plain": [
       "True"
      ]
     },
     "execution_count": 6,
     "metadata": {},
     "output_type": "execute_result"
    }
   ],
   "source": [
    "x0,x1,x2,x3,x4,x5,x6,x7 = var(\"x0,x1,x2,x3,x4,x5,x6,x7\")\n",
    "y0,y1,y2,y3,y4,y5,y6,y7 = var(\"y0,y1,y2,y3,y4,y5,y6,y7\")\n",
    "u, v = vector([x0,x1,x2,x3,x4,x5,x6,x7]), vector([y0,y1,y2,y3,y4,y5,y6,y7])\n",
    "all(X * prod_O(u, v) - prod_O(X * u, v) - prod_O(u, X * v) == 0 for X in on_basis_biinv)"
   ]
  },
  {
   "cell_type": "markdown",
   "id": "1f52b7fa-7dfa-41f3-ae1a-822101ad0c01",
   "metadata": {},
   "source": [
    "Now we define \n",
    "\\begin{align*}\n",
    "\\mathfrak k_0 & = \\mathbb R X_0 \\oplus \\mathbb R X_1 \\oplus \\mathbb R X_2 \\\\\n",
    "\\mathfrak m_0 & = \\mathbb R X_3 \\oplus \\mathbb R X_4 \\oplus \\mathbb R X_5 \\\\\n",
    "\\mathfrak m_1 & = \\mathbb R X_6 \\oplus \\mathbb R X_7 \\oplus \\mathbb R X_8 \\oplus \\mathbb R X_9 \\\\\n",
    "\\mathfrak m_2 & = \\mathbb R X_{10} \\oplus \\mathbb R X_{11} \\oplus \\mathbb R X_{12} \\oplus \\mathbb R X_{13}.\n",
    "\\end{align*}\n",
    "\n",
    "Next, we verify that $\\mathfrak k_0$ is a Lie subalgebra of $\\mathfrak g_2$"
   ]
  },
  {
   "cell_type": "code",
   "execution_count": 7,
   "id": "b8d24be2-2906-4188-84f8-545682958d69",
   "metadata": {},
   "outputs": [
    {
     "data": {
      "text/html": [
       "<html>\\(\\displaystyle \\mathrm{True}\\)</html>"
      ],
      "text/latex": [
       "$\\displaystyle \\mathrm{True}$"
      ],
      "text/plain": [
       "True"
      ]
     },
     "execution_count": 7,
     "metadata": {},
     "output_type": "execute_result"
    }
   ],
   "source": [
    "is_lie_subalgebra(on_basis_biinv[:3], on_basis_biinv)"
   ]
  },
  {
   "cell_type": "markdown",
   "id": "46bf0b4c-cd43-4ae3-b520-5196ebc43b72",
   "metadata": {},
   "source": [
    "Notice that this Lie subalgebra is isomorphic to $\\mathfrak {so}(3)$ and acts trivially on $\\mathbb H$. We can see this by direct inspection."
   ]
  },
  {
   "cell_type": "code",
   "execution_count": 8,
   "id": "7b8d3249-112d-4148-88fa-2e7f3225562c",
   "metadata": {},
   "outputs": [
    {
     "data": {
      "text/html": [
       "<html>\\(\\displaystyle \\left[\\left(\\begin{array}{rrrrrrrr}\n",
       "0 & 0 & 0 & 0 & 0 & 0 & 0 & 0 \\\\\n",
       "0 & 0 & 0 & 0 & 0 & 0 & 0 & 0 \\\\\n",
       "0 & 0 & 0 & 0 & 0 & 0 & 0 & 0 \\\\\n",
       "0 & 0 & 0 & 0 & 0 & 0 & 0 & 0 \\\\\n",
       "0 & 0 & 0 & 0 & 0 & -\\frac{1}{2} & 0 & 0 \\\\\n",
       "0 & 0 & 0 & 0 & \\frac{1}{2} & 0 & 0 & 0 \\\\\n",
       "0 & 0 & 0 & 0 & 0 & 0 & 0 & -\\frac{1}{2} \\\\\n",
       "0 & 0 & 0 & 0 & 0 & 0 & \\frac{1}{2} & 0\n",
       "\\end{array}\\right), \\left(\\begin{array}{rrrrrrrr}\n",
       "0 & 0 & 0 & 0 & 0 & 0 & 0 & 0 \\\\\n",
       "0 & 0 & 0 & 0 & 0 & 0 & 0 & 0 \\\\\n",
       "0 & 0 & 0 & 0 & 0 & 0 & 0 & 0 \\\\\n",
       "0 & 0 & 0 & 0 & 0 & 0 & 0 & 0 \\\\\n",
       "0 & 0 & 0 & 0 & 0 & 0 & -\\frac{1}{2} & 0 \\\\\n",
       "0 & 0 & 0 & 0 & 0 & 0 & 0 & \\frac{1}{2} \\\\\n",
       "0 & 0 & 0 & 0 & \\frac{1}{2} & 0 & 0 & 0 \\\\\n",
       "0 & 0 & 0 & 0 & 0 & -\\frac{1}{2} & 0 & 0\n",
       "\\end{array}\\right), \\left(\\begin{array}{rrrrrrrr}\n",
       "0 & 0 & 0 & 0 & 0 & 0 & 0 & 0 \\\\\n",
       "0 & 0 & 0 & 0 & 0 & 0 & 0 & 0 \\\\\n",
       "0 & 0 & 0 & 0 & 0 & 0 & 0 & 0 \\\\\n",
       "0 & 0 & 0 & 0 & 0 & 0 & 0 & 0 \\\\\n",
       "0 & 0 & 0 & 0 & 0 & 0 & 0 & -\\frac{1}{2} \\\\\n",
       "0 & 0 & 0 & 0 & 0 & 0 & -\\frac{1}{2} & 0 \\\\\n",
       "0 & 0 & 0 & 0 & 0 & \\frac{1}{2} & 0 & 0 \\\\\n",
       "0 & 0 & 0 & 0 & \\frac{1}{2} & 0 & 0 & 0\n",
       "\\end{array}\\right)\\right]\\)</html>"
      ],
      "text/latex": [
       "$\\displaystyle \\left[\\left(\\begin{array}{rrrrrrrr}\n",
       "0 & 0 & 0 & 0 & 0 & 0 & 0 & 0 \\\\\n",
       "0 & 0 & 0 & 0 & 0 & 0 & 0 & 0 \\\\\n",
       "0 & 0 & 0 & 0 & 0 & 0 & 0 & 0 \\\\\n",
       "0 & 0 & 0 & 0 & 0 & 0 & 0 & 0 \\\\\n",
       "0 & 0 & 0 & 0 & 0 & -\\frac{1}{2} & 0 & 0 \\\\\n",
       "0 & 0 & 0 & 0 & \\frac{1}{2} & 0 & 0 & 0 \\\\\n",
       "0 & 0 & 0 & 0 & 0 & 0 & 0 & -\\frac{1}{2} \\\\\n",
       "0 & 0 & 0 & 0 & 0 & 0 & \\frac{1}{2} & 0\n",
       "\\end{array}\\right), \\left(\\begin{array}{rrrrrrrr}\n",
       "0 & 0 & 0 & 0 & 0 & 0 & 0 & 0 \\\\\n",
       "0 & 0 & 0 & 0 & 0 & 0 & 0 & 0 \\\\\n",
       "0 & 0 & 0 & 0 & 0 & 0 & 0 & 0 \\\\\n",
       "0 & 0 & 0 & 0 & 0 & 0 & 0 & 0 \\\\\n",
       "0 & 0 & 0 & 0 & 0 & 0 & -\\frac{1}{2} & 0 \\\\\n",
       "0 & 0 & 0 & 0 & 0 & 0 & 0 & \\frac{1}{2} \\\\\n",
       "0 & 0 & 0 & 0 & \\frac{1}{2} & 0 & 0 & 0 \\\\\n",
       "0 & 0 & 0 & 0 & 0 & -\\frac{1}{2} & 0 & 0\n",
       "\\end{array}\\right), \\left(\\begin{array}{rrrrrrrr}\n",
       "0 & 0 & 0 & 0 & 0 & 0 & 0 & 0 \\\\\n",
       "0 & 0 & 0 & 0 & 0 & 0 & 0 & 0 \\\\\n",
       "0 & 0 & 0 & 0 & 0 & 0 & 0 & 0 \\\\\n",
       "0 & 0 & 0 & 0 & 0 & 0 & 0 & 0 \\\\\n",
       "0 & 0 & 0 & 0 & 0 & 0 & 0 & -\\frac{1}{2} \\\\\n",
       "0 & 0 & 0 & 0 & 0 & 0 & -\\frac{1}{2} & 0 \\\\\n",
       "0 & 0 & 0 & 0 & 0 & \\frac{1}{2} & 0 & 0 \\\\\n",
       "0 & 0 & 0 & 0 & \\frac{1}{2} & 0 & 0 & 0\n",
       "\\end{array}\\right)\\right]$"
      ],
      "text/plain": [
       "[\n",
       "[   0    0    0    0    0    0    0    0]\n",
       "[   0    0    0    0    0    0    0    0]\n",
       "[   0    0    0    0    0    0    0    0]\n",
       "[   0    0    0    0    0    0    0    0]\n",
       "[   0    0    0    0    0 -1/2    0    0]\n",
       "[   0    0    0    0  1/2    0    0    0]\n",
       "[   0    0    0    0    0    0    0 -1/2]\n",
       "[   0    0    0    0    0    0  1/2    0],\n",
       "\n",
       "[   0    0    0    0    0    0    0    0]\n",
       "[   0    0    0    0    0    0    0    0]\n",
       "[   0    0    0    0    0    0    0    0]\n",
       "[   0    0    0    0    0    0    0    0]\n",
       "[   0    0    0    0    0    0 -1/2    0]\n",
       "[   0    0    0    0    0    0    0  1/2]\n",
       "[   0    0    0    0  1/2    0    0    0]\n",
       "[   0    0    0    0    0 -1/2    0    0],\n",
       "\n",
       "[   0    0    0    0    0    0    0    0]\n",
       "[   0    0    0    0    0    0    0    0]\n",
       "[   0    0    0    0    0    0    0    0]\n",
       "[   0    0    0    0    0    0    0    0]\n",
       "[   0    0    0    0    0    0    0 -1/2]\n",
       "[   0    0    0    0    0    0 -1/2    0]\n",
       "[   0    0    0    0    0  1/2    0    0]\n",
       "[   0    0    0    0  1/2    0    0    0]\n",
       "]"
      ]
     },
     "execution_count": 8,
     "metadata": {},
     "output_type": "execute_result"
    }
   ],
   "source": [
    "on_basis_biinv[:3]"
   ]
  },
  {
   "cell_type": "markdown",
   "id": "25f9de0a-88f6-4306-b5e2-3e044538c912",
   "metadata": {},
   "source": [
    "Now we check that $\\mathfrak m_0$ is a Lie subalgebra isomorphic to $\\mathfrak {so}(3)$"
   ]
  },
  {
   "cell_type": "code",
   "execution_count": 9,
   "id": "e7b5a53f-961e-4fab-803e-d1c4deb85c58",
   "metadata": {},
   "outputs": [
    {
     "data": {
      "text/html": [
       "<html>\\(\\displaystyle \\mathrm{True}\\)</html>"
      ],
      "text/latex": [
       "$\\displaystyle \\mathrm{True}$"
      ],
      "text/plain": [
       "True"
      ]
     },
     "execution_count": 9,
     "metadata": {},
     "output_type": "execute_result"
    }
   ],
   "source": [
    "is_lie_subalgebra(on_basis_biinv[3:6], on_basis_biinv)"
   ]
  },
  {
   "cell_type": "code",
   "execution_count": 10,
   "id": "2e052419-ac14-4435-8ace-fc0bc7cc81f7",
   "metadata": {},
   "outputs": [
    {
     "data": {
      "text/html": [
       "<html>\\(\\displaystyle \\left[\\left(\\begin{array}{rrrrrrrr}\n",
       "0 & 0 & 0 & 0 & 0 & 0 & 0 & 0 \\\\\n",
       "0 & 0 & 0 & 0 & 0 & 0 & 0 & 0 \\\\\n",
       "0 & 0 & 0 & \\frac{1}{3} \\, \\sqrt{3} & 0 & 0 & 0 & 0 \\\\\n",
       "0 & 0 & -\\frac{1}{3} \\, \\sqrt{3} & 0 & 0 & 0 & 0 & 0 \\\\\n",
       "0 & 0 & 0 & 0 & 0 & -\\frac{1}{6} \\, \\sqrt{3} & 0 & 0 \\\\\n",
       "0 & 0 & 0 & 0 & \\frac{1}{6} \\, \\sqrt{3} & 0 & 0 & 0 \\\\\n",
       "0 & 0 & 0 & 0 & 0 & 0 & 0 & \\frac{1}{6} \\, \\sqrt{3} \\\\\n",
       "0 & 0 & 0 & 0 & 0 & 0 & -\\frac{1}{6} \\, \\sqrt{3} & 0\n",
       "\\end{array}\\right), \\left(\\begin{array}{rrrrrrrr}\n",
       "0 & 0 & 0 & 0 & 0 & 0 & 0 & 0 \\\\\n",
       "0 & 0 & 0 & -\\frac{1}{3} \\, \\sqrt{3} & 0 & 0 & 0 & 0 \\\\\n",
       "0 & 0 & 0 & 0 & 0 & 0 & 0 & 0 \\\\\n",
       "0 & \\frac{1}{3} \\, \\sqrt{3} & 0 & 0 & 0 & 0 & 0 & 0 \\\\\n",
       "0 & 0 & 0 & 0 & 0 & 0 & -\\frac{1}{6} \\, \\sqrt{3} & 0 \\\\\n",
       "0 & 0 & 0 & 0 & 0 & 0 & 0 & -\\frac{1}{6} \\, \\sqrt{3} \\\\\n",
       "0 & 0 & 0 & 0 & \\frac{1}{6} \\, \\sqrt{3} & 0 & 0 & 0 \\\\\n",
       "0 & 0 & 0 & 0 & 0 & \\frac{1}{6} \\, \\sqrt{3} & 0 & 0\n",
       "\\end{array}\\right), \\left(\\begin{array}{rrrrrrrr}\n",
       "0 & 0 & 0 & 0 & 0 & 0 & 0 & 0 \\\\\n",
       "0 & 0 & \\frac{1}{3} \\, \\sqrt{3} & 0 & 0 & 0 & 0 & 0 \\\\\n",
       "0 & -\\frac{1}{3} \\, \\sqrt{3} & 0 & 0 & 0 & 0 & 0 & 0 \\\\\n",
       "0 & 0 & 0 & 0 & 0 & 0 & 0 & 0 \\\\\n",
       "0 & 0 & 0 & 0 & 0 & 0 & 0 & -\\frac{1}{6} \\, \\sqrt{3} \\\\\n",
       "0 & 0 & 0 & 0 & 0 & 0 & \\frac{1}{6} \\, \\sqrt{3} & 0 \\\\\n",
       "0 & 0 & 0 & 0 & 0 & -\\frac{1}{6} \\, \\sqrt{3} & 0 & 0 \\\\\n",
       "0 & 0 & 0 & 0 & \\frac{1}{6} \\, \\sqrt{3} & 0 & 0 & 0\n",
       "\\end{array}\\right)\\right]\\)</html>"
      ],
      "text/latex": [
       "$\\displaystyle \\left[\\left(\\begin{array}{rrrrrrrr}\n",
       "0 & 0 & 0 & 0 & 0 & 0 & 0 & 0 \\\\\n",
       "0 & 0 & 0 & 0 & 0 & 0 & 0 & 0 \\\\\n",
       "0 & 0 & 0 & \\frac{1}{3} \\, \\sqrt{3} & 0 & 0 & 0 & 0 \\\\\n",
       "0 & 0 & -\\frac{1}{3} \\, \\sqrt{3} & 0 & 0 & 0 & 0 & 0 \\\\\n",
       "0 & 0 & 0 & 0 & 0 & -\\frac{1}{6} \\, \\sqrt{3} & 0 & 0 \\\\\n",
       "0 & 0 & 0 & 0 & \\frac{1}{6} \\, \\sqrt{3} & 0 & 0 & 0 \\\\\n",
       "0 & 0 & 0 & 0 & 0 & 0 & 0 & \\frac{1}{6} \\, \\sqrt{3} \\\\\n",
       "0 & 0 & 0 & 0 & 0 & 0 & -\\frac{1}{6} \\, \\sqrt{3} & 0\n",
       "\\end{array}\\right), \\left(\\begin{array}{rrrrrrrr}\n",
       "0 & 0 & 0 & 0 & 0 & 0 & 0 & 0 \\\\\n",
       "0 & 0 & 0 & -\\frac{1}{3} \\, \\sqrt{3} & 0 & 0 & 0 & 0 \\\\\n",
       "0 & 0 & 0 & 0 & 0 & 0 & 0 & 0 \\\\\n",
       "0 & \\frac{1}{3} \\, \\sqrt{3} & 0 & 0 & 0 & 0 & 0 & 0 \\\\\n",
       "0 & 0 & 0 & 0 & 0 & 0 & -\\frac{1}{6} \\, \\sqrt{3} & 0 \\\\\n",
       "0 & 0 & 0 & 0 & 0 & 0 & 0 & -\\frac{1}{6} \\, \\sqrt{3} \\\\\n",
       "0 & 0 & 0 & 0 & \\frac{1}{6} \\, \\sqrt{3} & 0 & 0 & 0 \\\\\n",
       "0 & 0 & 0 & 0 & 0 & \\frac{1}{6} \\, \\sqrt{3} & 0 & 0\n",
       "\\end{array}\\right), \\left(\\begin{array}{rrrrrrrr}\n",
       "0 & 0 & 0 & 0 & 0 & 0 & 0 & 0 \\\\\n",
       "0 & 0 & \\frac{1}{3} \\, \\sqrt{3} & 0 & 0 & 0 & 0 & 0 \\\\\n",
       "0 & -\\frac{1}{3} \\, \\sqrt{3} & 0 & 0 & 0 & 0 & 0 & 0 \\\\\n",
       "0 & 0 & 0 & 0 & 0 & 0 & 0 & 0 \\\\\n",
       "0 & 0 & 0 & 0 & 0 & 0 & 0 & -\\frac{1}{6} \\, \\sqrt{3} \\\\\n",
       "0 & 0 & 0 & 0 & 0 & 0 & \\frac{1}{6} \\, \\sqrt{3} & 0 \\\\\n",
       "0 & 0 & 0 & 0 & 0 & -\\frac{1}{6} \\, \\sqrt{3} & 0 & 0 \\\\\n",
       "0 & 0 & 0 & 0 & \\frac{1}{6} \\, \\sqrt{3} & 0 & 0 & 0\n",
       "\\end{array}\\right)\\right]$"
      ],
      "text/plain": [
       "[\n",
       "[           0            0            0            0            0            0            0            0]  [           0            0            0            0            0            0            0            0]  [           0            0            0            0            0            0            0            0]\n",
       "[           0            0            0            0            0            0            0            0]  [           0            0            0 -1/3*sqrt(3)            0            0            0            0]  [           0            0  1/3*sqrt(3)            0            0            0            0            0]\n",
       "[           0            0            0  1/3*sqrt(3)            0            0            0            0]  [           0            0            0            0            0            0            0            0]  [           0 -1/3*sqrt(3)            0            0            0            0            0            0]\n",
       "[           0            0 -1/3*sqrt(3)            0            0            0            0            0]  [           0  1/3*sqrt(3)            0            0            0            0            0            0]  [           0            0            0            0            0            0            0            0]\n",
       "[           0            0            0            0            0 -1/6*sqrt(3)            0            0]  [           0            0            0            0            0            0 -1/6*sqrt(3)            0]  [           0            0            0            0            0            0            0 -1/6*sqrt(3)]\n",
       "[           0            0            0            0  1/6*sqrt(3)            0            0            0]  [           0            0            0            0            0            0            0 -1/6*sqrt(3)]  [           0            0            0            0            0            0  1/6*sqrt(3)            0]\n",
       "[           0            0            0            0            0            0            0  1/6*sqrt(3)]  [           0            0            0            0  1/6*sqrt(3)            0            0            0]  [           0            0            0            0            0 -1/6*sqrt(3)            0            0]\n",
       "[           0            0            0            0            0            0 -1/6*sqrt(3)            0], [           0            0            0            0            0  1/6*sqrt(3)            0            0], [           0            0            0            0  1/6*sqrt(3)            0            0            0]\n",
       "]"
      ]
     },
     "execution_count": 10,
     "metadata": {},
     "output_type": "execute_result"
    }
   ],
   "source": [
    "on_basis_biinv[3:6]"
   ]
  },
  {
   "cell_type": "markdown",
   "id": "065df90c-a86c-4154-babe-f4e4e839982f",
   "metadata": {},
   "source": [
    "Finally, we check that $[\\mathfrak k_0, \\mathfrak m_0] = 0$."
   ]
  },
  {
   "cell_type": "code",
   "execution_count": 11,
   "id": "13b0da1d-6d2b-4954-b1fe-9bf3aa8a9808",
   "metadata": {},
   "outputs": [
    {
     "data": {
      "text/html": [
       "<html>\\(\\displaystyle \\mathrm{True}\\)</html>"
      ],
      "text/latex": [
       "$\\displaystyle \\mathrm{True}$"
      ],
      "text/plain": [
       "True"
      ]
     },
     "execution_count": 11,
     "metadata": {},
     "output_type": "execute_result"
    }
   ],
   "source": [
    "all(lie_bracket(X, Y) == 0 for X in on_basis_biinv[:3] for Y in on_basis_biinv[3:6])"
   ]
  },
  {
   "cell_type": "markdown",
   "id": "594cf9d6-7fea-47ec-befd-a3358845aebe",
   "metadata": {},
   "source": [
    "## The left-invariant metric on $G_2 \\simeq \\mathcal Z(\\mathbb S)$\n",
    "\n",
    "We consider on $G_2$ the left-invariant metric given by \n",
    "$$g(X_i, X_j) = (X_i \\cdot (u_0, v_0))^T (X_j \\cdot (u_0, v_0))$$\n",
    "where the zero divisor $(u_0, v_0) \\in \\mathcal Z(\\mathbb S)$ is given by $(u_0, v_0) = (e_4 + e_{13}, e_6 + e_{15})$.\n"
   ]
  },
  {
   "cell_type": "code",
   "execution_count": 12,
   "id": "b09febd0-9b97-4245-93bb-48f67754b419",
   "metadata": {},
   "outputs": [
    {
     "data": {
      "text/html": [
       "<html>\\(\\displaystyle \\mathrm{True}\\)</html>"
      ],
      "text/latex": [
       "$\\displaystyle \\mathrm{True}$"
      ],
      "text/plain": [
       "True"
      ]
     },
     "execution_count": 12,
     "metadata": {},
     "output_type": "execute_result"
    }
   ],
   "source": [
    "e = identity_matrix(16).columns()\n",
    "u0, v0 = e[4] + e[13], e[6] + e[15]\n",
    "prod_S(u0, v0) == 0 # check that (u0, v0) is a zero divisor"
   ]
  },
  {
   "cell_type": "markdown",
   "id": "cc7525a9-01fb-4846-9afa-402fdf73fd61",
   "metadata": {},
   "source": [
    "Now we define the left-invariant metric and verify that\n",
    "$$g = g_{\\mathrm{bi}}|_{\\mathfrak k_0} \\oplus \\frac13\\,g_{\\mathrm{bi}}|_{\\mathfrak m_0} \\oplus \\frac12 \\, g_{\\mathrm{bi}}|_{\\mathfrak m_1 \\oplus \\mathfrak m_2}$$"
   ]
  },
  {
   "cell_type": "code",
   "execution_count": 13,
   "id": "0c52e4a5-7240-4403-9ba6-75f8e9ed0123",
   "metadata": {},
   "outputs": [
    {
     "data": {
      "text/html": [
       "<html>\\(\\displaystyle \\mathrm{True}\\)</html>"
      ],
      "text/latex": [
       "$\\displaystyle \\mathrm{True}$"
      ],
      "text/plain": [
       "True"
      ]
     },
     "metadata": {},
     "output_type": "display_data"
    },
    {
     "data": {
      "text/html": [
       "<html>\\(\\displaystyle \\left[1, 1, 1, \\frac{1}{3}, \\frac{1}{3}, \\frac{1}{3}, \\frac{1}{2}, \\frac{1}{2}, \\frac{1}{2}, \\frac{1}{2}, \\frac{1}{2}, \\frac{1}{2}, \\frac{1}{2}, \\frac{1}{2}\\right]\\)</html>"
      ],
      "text/latex": [
       "$\\displaystyle \\left[1, 1, 1, \\frac{1}{3}, \\frac{1}{3}, \\frac{1}{3}, \\frac{1}{2}, \\frac{1}{2}, \\frac{1}{2}, \\frac{1}{2}, \\frac{1}{2}, \\frac{1}{2}, \\frac{1}{2}, \\frac{1}{2}\\right]$"
      ],
      "text/plain": [
       "[1, 1, 1, 1/3, 1/3, 1/3, 1/2, 1/2, 1/2, 1/2, 1/2, 1/2, 1/2, 1/2]"
      ]
     },
     "metadata": {},
     "output_type": "display_data"
    }
   ],
   "source": [
    "def left_inv_metric(X, Y):\n",
    "    zd = vector(u0.list() + v0.list())\n",
    "    X0, Y0 = block_diagonal_matrix([X, X, X, X]) * zd, block_diagonal_matrix([Y, Y, Y, Y]) * zd\n",
    "    return X0 * Y0\n",
    "\n",
    "left_inv_metric_matrix = matrix(14, 14, lambda i, j: left_inv_metric(on_basis_biinv[i], on_basis_biinv[j]))\n",
    "display(left_inv_metric_matrix.is_diagonal())\n",
    "display(left_inv_metric_matrix.diagonal())"
   ]
  },
  {
   "cell_type": "markdown",
   "id": "c6c59b87-cb2f-43b5-b47d-80a87dc92907",
   "metadata": {},
   "source": [
    "## The Ricci tensor\n",
    "\n",
    "We compute the Ricci tensor using the well-known formula\n",
    "\\begin{equation*}\n",
    "  \\operatorname{Ric} (Y_j, Y_h) = \\frac12 \\sum_{i,k} \\{ c_{iki} (c_{kjh} + c_{khj}) + \\frac12 c_{ikh} c_{ikj} - c_{ijk} c_{khi} + c_{iki} c_{jhk} - c_{ijk} c_{ihk} \\}\n",
    "\\end{equation*}\n",
    "where $Y_0, \\ldots, Y_{13}$ is an orthonormal basis and\n",
    "\\begin{equation*}\n",
    "  c_{ijk} = g([Y_i, Y_j], Y_k ).\n",
    "\\end{equation*} \n",
    "  "
   ]
  },
  {
   "cell_type": "code",
   "execution_count": 14,
   "id": "b56af9fb-d4c9-43e2-9852-78c5df31f15d",
   "metadata": {},
   "outputs": [],
   "source": [
    "def bracket_contracted(inner_product, on_basis):\n",
    "    alg_dim = 14\n",
    "    bc = {(i,j,k): None for i in range(alg_dim) for j in range(alg_dim) for k in range(alg_dim)}\n",
    "    for index in bc.keys():\n",
    "        i, j, k = index\n",
    "        bc[index] = inner_product(lie_bracket(on_basis[i], on_basis[j]), on_basis[k])\n",
    "    return bc\n",
    "\n",
    "def Ric_ob(bc, j, h):\n",
    "    hh_dim = 14\n",
    "    return sum(sum( bc[(i,k,i)] * (bc[(k,j,h)] + bc[(k,h,j)]) / 2 + bc[(i,k,h)] * bc[(i,k,j)] / 4 \n",
    "                   - bc[(i,j,k)] * bc[(k,h,i)] / 2 + bc[(i,k,i)] * bc[(j,h,k)] / 2 \n",
    "                   - bc[(i,j,k)] * bc[(i,h,k)] / 2 for i in range(hh_dim)) for k in range(hh_dim))\n",
    "\n",
    "def Ric_on(inner_product, on_basis):\n",
    "    alg_dim = 14\n",
    "    bc = bracket_contracted(inner_product, on_basis)\n",
    "    return matrix(14, 14, lambda i, j: Ric_ob(bc, i, j))"
   ]
  },
  {
   "cell_type": "markdown",
   "id": "93d3983c-f19d-4aa1-a7e9-4600f1db876e",
   "metadata": {},
   "source": [
    "We first check that the bi-invariant metric on $G_2$ is an Einstein metric. "
   ]
  },
  {
   "cell_type": "code",
   "execution_count": 15,
   "id": "7e1db0a1-738f-4da7-91fd-2e41b75f1067",
   "metadata": {},
   "outputs": [
    {
     "name": "stdout",
     "output_type": "stream",
     "text": [
      "CPU times: user 5.12 s, sys: 0 ns, total: 5.12 s\n",
      "Wall time: 5.12 s\n"
     ]
    },
    {
     "data": {
      "text/html": [
       "<html>\\(\\displaystyle \\mathrm{True}\\)</html>"
      ],
      "text/latex": [
       "$\\displaystyle \\mathrm{True}$"
      ],
      "text/plain": [
       "True"
      ]
     },
     "execution_count": 15,
     "metadata": {},
     "output_type": "execute_result"
    }
   ],
   "source": [
    "# long time\n",
    "%time Ric_biinv_metric = Ric_on(biinv_metric, on_basis_biinv)\n",
    "Ric_biinv_metric\n",
    "Ric_biinv_metric == Ric_biinv_metric[0,0] * identity_matrix(14)"
   ]
  },
  {
   "cell_type": "markdown",
   "id": "5a31178e-7a5d-44b4-8f22-fa21f327b642",
   "metadata": {},
   "source": [
    "Now we compute the Ricci tensor for the left-invariant metric."
   ]
  },
  {
   "cell_type": "code",
   "execution_count": 16,
   "id": "7d366cce-6d1f-431d-8e5f-69d53501b526",
   "metadata": {},
   "outputs": [
    {
     "name": "stdout",
     "output_type": "stream",
     "text": [
      "CPU times: user 15.7 s, sys: 0 ns, total: 15.7 s\n",
      "Wall time: 15.8 s\n"
     ]
    },
    {
     "data": {
      "text/html": [
       "<html>\\(\\displaystyle \\mathrm{True}\\)</html>"
      ],
      "text/latex": [
       "$\\displaystyle \\mathrm{True}$"
      ],
      "text/plain": [
       "True"
      ]
     },
     "metadata": {},
     "output_type": "display_data"
    },
    {
     "data": {
      "text/html": [
       "<html>\\(\\displaystyle \\left[\\frac{5}{2}, \\frac{5}{2}, \\frac{5}{2}, \\frac{29}{18}, \\frac{29}{18}, \\frac{29}{18}, \\frac{5}{3}, \\frac{5}{3}, \\frac{5}{3}, \\frac{5}{3}, \\frac{5}{3}, \\frac{5}{3}, \\frac{5}{3}, \\frac{5}{3}\\right]\\)</html>"
      ],
      "text/latex": [
       "$\\displaystyle \\left[\\frac{5}{2}, \\frac{5}{2}, \\frac{5}{2}, \\frac{29}{18}, \\frac{29}{18}, \\frac{29}{18}, \\frac{5}{3}, \\frac{5}{3}, \\frac{5}{3}, \\frac{5}{3}, \\frac{5}{3}, \\frac{5}{3}, \\frac{5}{3}, \\frac{5}{3}\\right]$"
      ],
      "text/plain": [
       "[5/2, 5/2, 5/2, 29/18, 29/18, 29/18, 5/3, 5/3, 5/3, 5/3, 5/3, 5/3, 5/3, 5/3]"
      ]
     },
     "execution_count": 16,
     "metadata": {},
     "output_type": "execute_result"
    }
   ],
   "source": [
    "# long time\n",
    "on_basis_left_inv_metric = gram_schmidt(on_basis_biinv, left_inv_metric)\n",
    "%time Ric_left_inv_metric = Ric_on(left_inv_metric, on_basis_left_inv_metric)\n",
    "display(Ric_left_inv_metric.is_diagonal())\n",
    "Ric_left_inv_metric.diagonal()"
   ]
  },
  {
   "cell_type": "markdown",
   "id": "b2bd483e-e1c4-4ec9-87a5-ecc40429f0d7",
   "metadata": {},
   "source": [
    "If we write the Ricci tensor in the basis $X_0, \\ldots, X_{13}$, then it has the following diagonal form."
   ]
  },
  {
   "cell_type": "code",
   "execution_count": 17,
   "id": "5c12d09c-71a0-41f8-b927-d3d275346395",
   "metadata": {},
   "outputs": [
    {
     "data": {
      "text/html": [
       "<html>\\(\\displaystyle \\left[\\frac{5}{2}, \\frac{5}{2}, \\frac{5}{2}, \\frac{29}{54}, \\frac{29}{54}, \\frac{29}{54}, \\frac{5}{6}, \\frac{5}{6}, \\frac{5}{6}, \\frac{5}{6}, \\frac{5}{6}, \\frac{5}{6}, \\frac{5}{6}, \\frac{5}{6}\\right]\\)</html>"
      ],
      "text/latex": [
       "$\\displaystyle \\left[\\frac{5}{2}, \\frac{5}{2}, \\frac{5}{2}, \\frac{29}{54}, \\frac{29}{54}, \\frac{29}{54}, \\frac{5}{6}, \\frac{5}{6}, \\frac{5}{6}, \\frac{5}{6}, \\frac{5}{6}, \\frac{5}{6}, \\frac{5}{6}, \\frac{5}{6}\\right]$"
      ],
      "text/plain": [
       "[5/2, 5/2, 5/2, 29/54, 29/54, 29/54, 5/6, 5/6, 5/6, 5/6, 5/6, 5/6, 5/6, 5/6]"
      ]
     },
     "execution_count": 17,
     "metadata": {},
     "output_type": "execute_result"
    }
   ],
   "source": [
    "[left_inv_metric(on_basis_biinv[i], on_basis_left_inv_metric[i])^2 * Ric_left_inv_metric[i,i] for i in range(14)]"
   ]
  }
 ],
 "metadata": {
  "kernelspec": {
   "display_name": "SageMath 10.4",
   "language": "sage",
   "name": "sagemath"
  },
  "language_info": {
   "codemirror_mode": {
    "name": "ipython",
    "version": 3
   },
   "file_extension": ".py",
   "mimetype": "text/x-python",
   "name": "python",
   "nbconvert_exporter": "python",
   "pygments_lexer": "ipython3",
   "version": "3.12.5"
  }
 },
 "nbformat": 4,
 "nbformat_minor": 5
}
