{
 "cells": [
  {
   "cell_type": "code",
   "execution_count": 1,
   "id": "0def41b7-ae74-44c2-af48-c2ee4e4e0bb4",
   "metadata": {},
   "outputs": [
    {
     "data": {
      "text/html": [
       "<html>\\(\\displaystyle \\verb|SageMath|\\verb| |\\verb|version|\\verb| |\\verb|10.4,|\\verb| |\\verb|Release|\\verb| |\\verb|Date:|\\verb| |\\verb|2024-07-19|\\)</html>"
      ],
      "text/latex": [
       "$\\displaystyle \\verb|SageMath|\\verb| |\\verb|version|\\verb| |\\verb|10.4,|\\verb| |\\verb|Release|\\verb| |\\verb|Date:|\\verb| |\\verb|2024-07-19|$"
      ],
      "text/plain": [
       "'SageMath version 10.4, Release Date: 2024-07-19'"
      ]
     },
     "execution_count": 1,
     "metadata": {},
     "output_type": "execute_result"
    }
   ],
   "source": [
    "# SageMath version at least 10.4\n",
    "%display latex\n",
    "version()"
   ]
  },
  {
   "cell_type": "markdown",
   "id": "c4054c37-aa66-47c5-af5c-29edd4d59e74",
   "metadata": {},
   "source": [
    "## Proof of Theorem 4.4 - Part 4\n",
    "\n",
    "In this notebook we check that the polynomials $F_0$ and $F_{\\frac49}$ are sums of squares (SOS) by showing that\n",
    "$$F_\\alpha = \\boldsymbol x^T H_\\alpha \\boldsymbol x, \\qquad \\qquad \\alpha \\in \\{ 0, \\tfrac49\\}$$\n",
    "where $H_\\alpha$ is a symmetric positive semi-definite $143 \\times 143$ matrix and\n",
    "$$\\boldsymbol{x}^T = (x_0 x_{11}, \\ldots, x_0 x_{21}, \\ldots, x_{10} x_{11}, \\ldots, x_{10} x_{21}, x_0^2, \\ldots, x_{21}^2).$$\n",
    "\n",
    "The procedure to find such $H_\\alpha$ can be found in `Proof_of_Theorem_4.4_Part_2.ipynb` and `Proof_of_Theorem_4.4_Part_3.ipynb` but these notebooks are not needed for checking that solutions are correct (except for the explicit formulae for the $H_\\alpha$'s, which are given in the main manuscript, and are also found in Parts 2 and 3)."
   ]
  },
  {
   "cell_type": "code",
   "execution_count": 2,
   "id": "4211e823-2c5f-44e1-ad30-56dd2238597d",
   "metadata": {},
   "outputs": [
    {
     "name": "stdout",
     "output_type": "stream",
     "text": [
      "1/2*(9*r - 4)*x0*x1*x11*x12 - 1/4*((9*r - 4)*x1^2 - 2*x10^2)*x11^2 - 1/4*((9*r - 4)*x0^2 - 2*x10^2)*x12^2 + 3/4*(r*x0^2 + r*x1^2 + r*x10^2)*x13^2 + 1/2*(x0^2 + x1^2 + x10^2)*x14^2 + 1/2*(x0^2 + x1^2)*x15^2 + 1/2*(x0^2 + x1^2)*x16^2 + 1/2*(x0^2 + x1^2 + x10^2)*x17^2 - 1/4*((9*r - 8)*x10^2 - 2*x0^2 - 2*x1^2)*x18^2 + 1/2*(x0^2 + x1^2 + x10^2)*x19^2 - 3/2*(r*x0*x11 + r*x1*x12)*x13*x2 + 3/4*(r*x11^2 + r*x12^2 + r*x14^2 + r*x15^2 + r*x16^2 + r*x17^2 + r*x18^2 + r*x19^2)*x2^2 + 1/4*(3*r*x2^2 + 2*x0^2 + 2*x1^2 + 2*x10^2)*x20^2 + 1/4*(3*r*x2^2 + 2*x0^2 + 2*x1^2)*x21^2 + 1/4*(3*r*x13^2 - (9*r - 8)*x17^2 + 2*x11^2 + 2*x12^2 + 2*x15^2 + 2*x16^2 + 2*x18^2 + 2*x21^2)*x3^2 + 1/4*(3*r*x13^2 - (9*r - 8)*x16^2 + 2*x11^2 + 2*x12^2 + 2*x14^2 + 2*x17^2 + 2*x19^2 + 2*x20^2)*x4^2 + 1/4*(3*r*x13^2 - (9*r - 8)*x15^2 + 2*x11^2 + 2*x12^2 + 2*x14^2 + 2*x17^2 + 2*x19^2 + 2*x20^2)*x5^2 + 1/4*(3*r*x13^2 - (9*r - 8)*x14^2 + 2*x11^2 + 2*x12^2 + 2*x15^2 + 2*x16^2 + 2*x18^2 + 2*x21^2)*x6^2 + 1/4*(3*r*x13^2 - (9*r - 8)*x21^2 + 2*x11^2 + 2*x12^2 + 2*x14^2 + 2*x17^2 + 2*x19^2 + 2*x20^2)*x7^2 + 1/4*(3*r*x13^2 - (9*r - 8)*x20^2 + 2*x11^2 + 2*x12^2 + 2*x15^2 + 2*x16^2 + 2*x18^2 + 2*x21^2)*x8^2 + 1/4*(3*r*x13^2 - (9*r - 8)*x19^2 + 2*x11^2 + 2*x12^2 + 2*x15^2 + 2*x16^2 + 2*x18^2 + 2*x21^2)*x9^2 - (x1*x10*x11 + x0*x10*x12)*x15 + (x0*x10*x11 - x1*x10*x12)*x16 + 1/2*(3*(3*r - 2)*x1*x10*x11 - 3*(3*r - 2)*x0*x10*x12 - 4*x0*x1*x16 - 2*(x0^2 - x1^2)*x15)*x18 - (2*x0*x1*x17 - (x0^2 - x1^2)*x14)*x19 + (2*x0*x1*x14 + (x0^2 - x1^2)*x17)*x20 - 1/2*(3*r*x10*x13*x2 + 2*x0*x10*x11 + 2*x1*x10*x12 - 4*x0*x1*x15 + 2*(x0^2 - x1^2)*x16)*x21 + 1/2*(3*(3*r - 2)*x10*x17*x18 - 3*r*x13*x14*x2 - 2*x10*x14*x21 - 2*(x0*x11 + x1*x12)*x14 - 3*((3*r - 2)*x1*x11 - (3*r - 2)*x0*x12)*x17 - 2*(x0*x11 - x1*x12 - x10*x16)*x19 - 2*(x1*x11 + x0*x12 + x10*x15)*x20)*x3 - 1/2*(3*r*x13*x15*x2 - 4*x10*x11*x12 + 4*x10*x17*x19 - 4*x10*x14*x20 + 2*(x0*x11 + x1*x12)*x15 - 3*((3*r - 2)*x1*x11 - (3*r - 2)*x0*x12)*x16 + (9*r*x10*x16 - 2*x0*x11 + 2*x1*x12)*x18 + 2*(x1*x11 + x0*x12)*x21 - (3*(3*r - 2)*x16*x17 - 2*x14*x15 + 2*x18*x19 - 2*x20*x21)*x3)*x4 - 1/2*(3*r*x13*x16*x2 - (9*r - 8)*x15*x16*x4 + 2*x10*x11^2 - 2*x10*x12^2 + 4*x10*x14*x19 + 4*x10*x17*x20 + 3*((3*r - 2)*x1*x11 - (3*r - 2)*x0*x12)*x15 + 2*(x0*x11 + x1*x12)*x16 - (9*r*x10*x15 + 2*x1*x11 + 2*x0*x12)*x18 - 2*(x0*x11 - x1*x12)*x21 + (3*(3*r - 2)*x15*x17 + 2*x14*x16 - 2*x18*x20 - 2*x19*x21)*x3)*x5 - 1/2*(3*(3*r - 2)*x10*x14*x18 + 3*r*x13*x17*x2 - (9*r - 8)*x14*x17*x3 + 2*x10*x17*x21 - 3*((3*r - 2)*x1*x11 - (3*r - 2)*x0*x12)*x14 + 2*(x0*x11 + x1*x12)*x17 - 2*(x1*x11 + x0*x12 + x10*x15)*x19 + 2*(x0*x11 - x1*x12 - x10*x16)*x20 + (3*(3*r - 2)*x14*x16 + 2*x15*x17 - 2*x18*x20 - 2*x19*x21)*x4 - (3*(3*r - 2)*x14*x15 - 2*x16*x17 - 2*x18*x19 + 2*x20*x21)*x5)*x6 - 1/2*(3*r*x13*x18*x2 - 2*(x0*x11 - x1*x12)*x15 - 2*(x1*x11 + x0*x12)*x16 + 2*(x0*x11 + x1*x12)*x18 + (3*(3*r - 2)*x1*x11 - 3*(3*r - 2)*x0*x12 - (9*r - 8)*x10*x18)*x21 + (3*(3*r - 2)*x17*x21 + 2*x14*x18 - 2*x15*x19 - 2*x16*x20)*x3 - (9*r*x16*x21 - 2*x11^2 + 2*x12^2 - 4*x14*x19 - 4*x17*x20)*x4 + (9*r*x15*x21 + 4*x11*x12 - 4*x17*x19 + 4*x14*x20)*x5 - (3*(3*r - 2)*x14*x21 - 2*x17*x18 - 2*x16*x19 + 2*x15*x20)*x6)*x7 - 1/2*(3*r*x13*x19*x2 - 2*x10*x14*x16 + 2*x10*x19*x21 + 2*(x0*x11 - x1*x12)*x14 - 2*(x1*x11 + x0*x12 + x10*x15)*x17 + 2*(x0*x11 + x1*x12)*x19 - 3*((3*r - 2)*x1*x11 - (3*r - 2)*x0*x12 - (3*r - 2)*x10*x18)*x20 - (9*r*x17*x20 + 2*x11^2 - 2*x12^2 - 4*x15*x18 - 4*x16*x21)*x3 + (3*(3*r - 2)*x16*x20 - 2*x14*x18 + 2*x15*x19 - 2*x17*x21)*x4 - (3*(3*r - 2)*x15*x20 - 2*x17*x18 - 2*x16*x19 + 2*x14*x21)*x5 + (9*r*x14*x20 + 4*x11*x12 - 4*x16*x18 + 4*x15*x21)*x6 - (3*(3*r - 2)*x20*x21 + 2*x14*x15 - 2*x16*x17 - 2*x18*x19)*x7)*x8 + 1/2*((9*r - 8)*x19*x20*x8 - 2*x10*x14*x15 - 2*x10*x20*x21 - 2*(x1*x11 + x0*x12)*x14 - 2*(x0*x11 - x1*x12 - x10*x16)*x17 - 3*((3*r - 2)*x1*x11 - (3*r - 2)*x0*x12 - (3*r - 2)*x10*x18)*x19 - (3*r*x13*x2 + 2*x0*x11 + 2*x1*x12)*x20 - (9*r*x17*x19 - 4*x11*x12 + 4*x16*x18 - 4*x15*x21)*x3 + (3*(3*r - 2)*x16*x19 + 2*x17*x18 - 2*x15*x20 - 2*x14*x21)*x4 - (3*(3*r - 2)*x15*x19 - 2*x14*x18 + 2*x16*x20 - 2*x17*x21)*x5 + (9*r*x14*x19 + 2*x11^2 - 2*x12^2 - 4*x15*x18 - 4*x16*x21)*x6 - (3*(3*r - 2)*x19*x21 - 2*x14*x16 - 2*x15*x17 + 2*x18*x20)*x7)*x9\n"
     ]
    }
   ],
   "source": [
    "n = 22\n",
    "r = var(\"r\")\n",
    "x_vars = [var(\"x\"+str(i)) for i in range(n)]\n",
    "F = load(\"F.sobj\")\n",
    "print(F)"
   ]
  },
  {
   "cell_type": "code",
   "execution_count": 3,
   "id": "99fe8278-05a8-431e-9095-b7af1fc5d3b3",
   "metadata": {},
   "outputs": [
    {
     "name": "stdout",
     "output_type": "stream",
     "text": [
      "143\n",
      "\n",
      "(x0*x11, x0*x12, x0*x13, x0*x14, x0*x15, x0*x16, x0*x17, x0*x18, x0*x19, x0*x20, x0*x21, x1*x11, x1*x12, x1*x13, x1*x14, x1*x15, x1*x16, x1*x17, x1*x18, x1*x19, x1*x20, x1*x21, x11*x2, x12*x2, x13*x2, x14*x2, x15*x2, x16*x2, x17*x2, x18*x2, x19*x2, x2*x20, x2*x21, x11*x3, x12*x3, x13*x3, x14*x3, x15*x3, x16*x3, x17*x3, x18*x3, x19*x3, x20*x3, x21*x3, x11*x4, x12*x4, x13*x4, x14*x4, x15*x4, x16*x4, x17*x4, x18*x4, x19*x4, x20*x4, x21*x4, x11*x5, x12*x5, x13*x5, x14*x5, x15*x5, x16*x5, x17*x5, x18*x5, x19*x5, x20*x5, x21*x5, x11*x6, x12*x6, x13*x6, x14*x6, x15*x6, x16*x6, x17*x6, x18*x6, x19*x6, x20*x6, x21*x6, x11*x7, x12*x7, x13*x7, x14*x7, x15*x7, x16*x7, x17*x7, x18*x7, x19*x7, x20*x7, x21*x7, x11*x8, x12*x8, x13*x8, x14*x8, x15*x8, x16*x8, x17*x8, x18*x8, x19*x8, x20*x8, x21*x8, x11*x9, x12*x9, x13*x9, x14*x9, x15*x9, x16*x9, x17*x9, x18*x9, x19*x9, x20*x9, x21*x9, x10*x11, x10*x12, x10*x13, x10*x14, x10*x15, x10*x16, x10*x17, x10*x18, x10*x19, x10*x20, x10*x21, x0^2, x1^2, x2^2, x3^2, x4^2, x5^2, x6^2, x7^2, x8^2, x9^2, x10^2, x11^2, x12^2, x13^2, x14^2, x15^2, x16^2, x17^2, x18^2, x19^2, x20^2, x21^2)\n"
     ]
    }
   ],
   "source": [
    "X_mon2 = load(\"X_mon2.sobj\")\n",
    "print(len(X_mon2))\n",
    "print(\"\")\n",
    "print(X_mon2)"
   ]
  },
  {
   "cell_type": "markdown",
   "id": "a68a0eb5-e0f7-4a09-987d-980158fc8f7f",
   "metadata": {},
   "source": [
    "### $F_0$ is a SOS polynomial"
   ]
  },
  {
   "cell_type": "code",
   "execution_count": 4,
   "id": "7f6f5c39-9ef0-4fa5-b36a-d24d961fae43",
   "metadata": {},
   "outputs": [],
   "source": [
    "F0 = F.subs(r=0)\n",
    "H0 = load(\"H0_solution.sobj\")\n",
    "G0 = X_mon2 * H0 * X_mon2"
   ]
  },
  {
   "cell_type": "code",
   "execution_count": 5,
   "id": "24c1cb56-414a-4a22-a120-0f2b8eba20ae",
   "metadata": {},
   "outputs": [
    {
     "data": {
      "text/html": [
       "<html>\\(\\displaystyle 0\\)</html>"
      ],
      "text/latex": [
       "$\\displaystyle 0$"
      ],
      "text/plain": [
       "0"
      ]
     },
     "execution_count": 5,
     "metadata": {},
     "output_type": "execute_result"
    }
   ],
   "source": [
    "(F0 - G0).expand()"
   ]
  },
  {
   "cell_type": "code",
   "execution_count": 6,
   "id": "705f6a1d-6c40-4a4c-aa43-1f7ff1c741b3",
   "metadata": {},
   "outputs": [
    {
     "data": {
      "text/html": [
       "<html>\\(\\displaystyle \\mathrm{True}\\)</html>"
      ],
      "text/latex": [
       "$\\displaystyle \\mathrm{True}$"
      ],
      "text/plain": [
       "True"
      ]
     },
     "execution_count": 6,
     "metadata": {},
     "output_type": "execute_result"
    }
   ],
   "source": [
    "H0.is_symmetric()"
   ]
  },
  {
   "cell_type": "code",
   "execution_count": 7,
   "id": "d4dc1719-4157-4162-9f1c-5607443f58f2",
   "metadata": {},
   "outputs": [
    {
     "data": {
      "text/html": [
       "<html>\\(\\displaystyle \\mathrm{True}\\)</html>"
      ],
      "text/latex": [
       "$\\displaystyle \\mathrm{True}$"
      ],
      "text/plain": [
       "True"
      ]
     },
     "execution_count": 7,
     "metadata": {},
     "output_type": "execute_result"
    }
   ],
   "source": [
    "H0.is_positive_semidefinite()"
   ]
  },
  {
   "cell_type": "markdown",
   "id": "e7a17f56-37c2-4c97-9e40-849d0d91e479",
   "metadata": {},
   "source": [
    "### $F_{\\frac49}$ is a SOS polynomial"
   ]
  },
  {
   "cell_type": "code",
   "execution_count": 8,
   "id": "894d6f14-c459-4554-8c0e-aa9b4ac16161",
   "metadata": {},
   "outputs": [],
   "source": [
    "F49 = F.subs(r=4/9)\n",
    "H49 = load(\"H49_solution.sobj\")\n",
    "G49 = X_mon2 * H49 * X_mon2"
   ]
  },
  {
   "cell_type": "code",
   "execution_count": 9,
   "id": "d68d5e06-eddc-4175-bb74-cdfc4ec84d76",
   "metadata": {},
   "outputs": [
    {
     "data": {
      "text/html": [
       "<html>\\(\\displaystyle 0\\)</html>"
      ],
      "text/latex": [
       "$\\displaystyle 0$"
      ],
      "text/plain": [
       "0"
      ]
     },
     "execution_count": 9,
     "metadata": {},
     "output_type": "execute_result"
    }
   ],
   "source": [
    "(F49 - G49).expand()"
   ]
  },
  {
   "cell_type": "code",
   "execution_count": 10,
   "id": "e6f63e1b-a68b-47dc-80a7-3c6905a9adf4",
   "metadata": {},
   "outputs": [
    {
     "data": {
      "text/html": [
       "<html>\\(\\displaystyle \\mathrm{True}\\)</html>"
      ],
      "text/latex": [
       "$\\displaystyle \\mathrm{True}$"
      ],
      "text/plain": [
       "True"
      ]
     },
     "execution_count": 10,
     "metadata": {},
     "output_type": "execute_result"
    }
   ],
   "source": [
    "H49.is_symmetric()"
   ]
  },
  {
   "cell_type": "code",
   "execution_count": 11,
   "id": "5c812e19-1e7c-441d-a75f-1cbf9b86971d",
   "metadata": {},
   "outputs": [
    {
     "data": {
      "text/html": [
       "<html>\\(\\displaystyle \\mathrm{True}\\)</html>"
      ],
      "text/latex": [
       "$\\displaystyle \\mathrm{True}$"
      ],
      "text/plain": [
       "True"
      ]
     },
     "execution_count": 11,
     "metadata": {},
     "output_type": "execute_result"
    }
   ],
   "source": [
    "H49.is_positive_semidefinite()"
   ]
  }
 ],
 "metadata": {
  "kernelspec": {
   "display_name": "SageMath 10.4",
   "language": "sage",
   "name": "sagemath"
  },
  "language_info": {
   "codemirror_mode": {
    "name": "ipython",
    "version": 3
   },
   "file_extension": ".py",
   "mimetype": "text/x-python",
   "name": "python",
   "nbconvert_exporter": "python",
   "pygments_lexer": "ipython3",
   "version": "3.12.5"
  }
 },
 "nbformat": 4,
 "nbformat_minor": 5
}
