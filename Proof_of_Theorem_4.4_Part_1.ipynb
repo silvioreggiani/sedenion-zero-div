{
 "cells": [
  {
   "cell_type": "code",
   "execution_count": 1,
   "id": "0def41b7-ae74-44c2-af48-c2ee4e4e0bb4",
   "metadata": {},
   "outputs": [
    {
     "data": {
      "text/html": [
       "<html>\\(\\displaystyle \\verb|SageMath|\\verb| |\\verb|version|\\verb| |\\verb|10.4,|\\verb| |\\verb|Release|\\verb| |\\verb|Date:|\\verb| |\\verb|2024-07-19|\\)</html>"
      ],
      "text/latex": [
       "$\\displaystyle \\verb|SageMath|\\verb| |\\verb|version|\\verb| |\\verb|10.4,|\\verb| |\\verb|Release|\\verb| |\\verb|Date:|\\verb| |\\verb|2024-07-19|$"
      ],
      "text/plain": [
       "'SageMath version 10.4, Release Date: 2024-07-19'"
      ]
     },
     "execution_count": 1,
     "metadata": {},
     "output_type": "execute_result"
    }
   ],
   "source": [
    "# SageMath version at least 10.4\n",
    "%display latex\n",
    "version()"
   ]
  },
  {
   "cell_type": "markdown",
   "id": "c4054c37-aa66-47c5-af5c-29edd4d59e74",
   "metadata": {},
   "source": [
    "## Proof of Theorem 4.4 - Part 1\n",
    "\n",
    "We have to prove that if $F = F_r$ is the homogeneous polynomial of degree $4$ computed in the notebook `Stiefel-manifold.ipynb` then \n",
    "$$\n",
    "F_r(x_0, \\ldots , x_{21}) \\ge 0 \\qquad \\text{ for } \\qquad 0 < r \\le \\frac49, \\, x_0, \\ldots, x_{21} \\in \\mathbb R\n",
    "$$\n",
    "\n",
    "Since $F_r(x_0, \\ldots, x_{21})$ is linear on $r$, it is enough to prove that $F_0$ and $F_{\\frac 49}$ are non-negative polynomials. We will do this by showing that $F_r$ is a SOS (sums of squares) polynomial for $r = 0, \\frac 49$. By the results in Powers-Wörmann 1998 this is equivalent to the existence of a symmetric positive semi-definite matrix $H_r$ such that \n",
    "$$\n",
    "F_r(x_0, \\ldots, x_{21}) = \\boldsymbol{x}^T \\, H_r \\, \\boldsymbol{x}, \\qquad r = 0, \\frac49 \\qquad \\qquad (*)\n",
    "$$\n",
    "where $\\boldsymbol x$ is the vector of monomials of degree $2$ in the variables $x_0, \\ldots, x_{21}$. Since every monomial with non-trivial coefficient in $F_r$ has the form $x_i x_j x_k x_l$ with $0 \\le i \\le j \\le 10 < k \\le l \\le 21$, we can replace $\\boldsymbol x$ by the smaller vector of monomials\n",
    "$$\n",
    "\\boldsymbol{x}^T = (x_0 x_{11}, \\ldots, x_0 x_{21}, \\ldots, x_{10} x_{11}, \\ldots, x_{10} x_{21}, x_0^2, \\ldots, x_{21}^2).\n",
    "$$\n",
    "\n",
    "In this notebook we compute all the symmetric (not necessarily positive semi-definite) matrices $H_r$ which satisfy $(*)$."
   ]
  },
  {
   "cell_type": "code",
   "execution_count": 2,
   "id": "2b0a9576-6581-419d-9071-d560c821b961",
   "metadata": {},
   "outputs": [
    {
     "name": "stdout",
     "output_type": "stream",
     "text": [
      "1/2*(9*r - 4)*x0*x1*x11*x12 - 1/4*((9*r - 4)*x1^2 - 2*x10^2)*x11^2 - 1/4*((9*r - 4)*x0^2 - 2*x10^2)*x12^2 + 3/4*(r*x0^2 + r*x1^2 + r*x10^2)*x13^2 + 1/2*(x0^2 + x1^2 + x10^2)*x14^2 + 1/2*(x0^2 + x1^2)*x15^2 + 1/2*(x0^2 + x1^2)*x16^2 + 1/2*(x0^2 + x1^2 + x10^2)*x17^2 - 1/4*((9*r - 8)*x10^2 - 2*x0^2 - 2*x1^2)*x18^2 + 1/2*(x0^2 + x1^2 + x10^2)*x19^2 - 3/2*(r*x0*x11 + r*x1*x12)*x13*x2 + 3/4*(r*x11^2 + r*x12^2 + r*x14^2 + r*x15^2 + r*x16^2 + r*x17^2 + r*x18^2 + r*x19^2)*x2^2 + 1/4*(3*r*x2^2 + 2*x0^2 + 2*x1^2 + 2*x10^2)*x20^2 + 1/4*(3*r*x2^2 + 2*x0^2 + 2*x1^2)*x21^2 + 1/4*(3*r*x13^2 - (9*r - 8)*x17^2 + 2*x11^2 + 2*x12^2 + 2*x15^2 + 2*x16^2 + 2*x18^2 + 2*x21^2)*x3^2 + 1/4*(3*r*x13^2 - (9*r - 8)*x16^2 + 2*x11^2 + 2*x12^2 + 2*x14^2 + 2*x17^2 + 2*x19^2 + 2*x20^2)*x4^2 + 1/4*(3*r*x13^2 - (9*r - 8)*x15^2 + 2*x11^2 + 2*x12^2 + 2*x14^2 + 2*x17^2 + 2*x19^2 + 2*x20^2)*x5^2 + 1/4*(3*r*x13^2 - (9*r - 8)*x14^2 + 2*x11^2 + 2*x12^2 + 2*x15^2 + 2*x16^2 + 2*x18^2 + 2*x21^2)*x6^2 + 1/4*(3*r*x13^2 - (9*r - 8)*x21^2 + 2*x11^2 + 2*x12^2 + 2*x14^2 + 2*x17^2 + 2*x19^2 + 2*x20^2)*x7^2 + 1/4*(3*r*x13^2 - (9*r - 8)*x20^2 + 2*x11^2 + 2*x12^2 + 2*x15^2 + 2*x16^2 + 2*x18^2 + 2*x21^2)*x8^2 + 1/4*(3*r*x13^2 - (9*r - 8)*x19^2 + 2*x11^2 + 2*x12^2 + 2*x15^2 + 2*x16^2 + 2*x18^2 + 2*x21^2)*x9^2 - (x1*x10*x11 + x0*x10*x12)*x15 + (x0*x10*x11 - x1*x10*x12)*x16 + 1/2*(3*(3*r - 2)*x1*x10*x11 - 3*(3*r - 2)*x0*x10*x12 - 4*x0*x1*x16 - 2*(x0^2 - x1^2)*x15)*x18 - (2*x0*x1*x17 - (x0^2 - x1^2)*x14)*x19 + (2*x0*x1*x14 + (x0^2 - x1^2)*x17)*x20 - 1/2*(3*r*x10*x13*x2 + 2*x0*x10*x11 + 2*x1*x10*x12 - 4*x0*x1*x15 + 2*(x0^2 - x1^2)*x16)*x21 + 1/2*(3*(3*r - 2)*x10*x17*x18 - 3*r*x13*x14*x2 - 2*x10*x14*x21 - 2*(x0*x11 + x1*x12)*x14 - 3*((3*r - 2)*x1*x11 - (3*r - 2)*x0*x12)*x17 - 2*(x0*x11 - x1*x12 - x10*x16)*x19 - 2*(x1*x11 + x0*x12 + x10*x15)*x20)*x3 - 1/2*(3*r*x13*x15*x2 - 4*x10*x11*x12 + 4*x10*x17*x19 - 4*x10*x14*x20 + 2*(x0*x11 + x1*x12)*x15 - 3*((3*r - 2)*x1*x11 - (3*r - 2)*x0*x12)*x16 + (9*r*x10*x16 - 2*x0*x11 + 2*x1*x12)*x18 + 2*(x1*x11 + x0*x12)*x21 - (3*(3*r - 2)*x16*x17 - 2*x14*x15 + 2*x18*x19 - 2*x20*x21)*x3)*x4 - 1/2*(3*r*x13*x16*x2 - (9*r - 8)*x15*x16*x4 + 2*x10*x11^2 - 2*x10*x12^2 + 4*x10*x14*x19 + 4*x10*x17*x20 + 3*((3*r - 2)*x1*x11 - (3*r - 2)*x0*x12)*x15 + 2*(x0*x11 + x1*x12)*x16 - (9*r*x10*x15 + 2*x1*x11 + 2*x0*x12)*x18 - 2*(x0*x11 - x1*x12)*x21 + (3*(3*r - 2)*x15*x17 + 2*x14*x16 - 2*x18*x20 - 2*x19*x21)*x3)*x5 - 1/2*(3*(3*r - 2)*x10*x14*x18 + 3*r*x13*x17*x2 - (9*r - 8)*x14*x17*x3 + 2*x10*x17*x21 - 3*((3*r - 2)*x1*x11 - (3*r - 2)*x0*x12)*x14 + 2*(x0*x11 + x1*x12)*x17 - 2*(x1*x11 + x0*x12 + x10*x15)*x19 + 2*(x0*x11 - x1*x12 - x10*x16)*x20 + (3*(3*r - 2)*x14*x16 + 2*x15*x17 - 2*x18*x20 - 2*x19*x21)*x4 - (3*(3*r - 2)*x14*x15 - 2*x16*x17 - 2*x18*x19 + 2*x20*x21)*x5)*x6 - 1/2*(3*r*x13*x18*x2 - 2*(x0*x11 - x1*x12)*x15 - 2*(x1*x11 + x0*x12)*x16 + 2*(x0*x11 + x1*x12)*x18 + (3*(3*r - 2)*x1*x11 - 3*(3*r - 2)*x0*x12 - (9*r - 8)*x10*x18)*x21 + (3*(3*r - 2)*x17*x21 + 2*x14*x18 - 2*x15*x19 - 2*x16*x20)*x3 - (9*r*x16*x21 - 2*x11^2 + 2*x12^2 - 4*x14*x19 - 4*x17*x20)*x4 + (9*r*x15*x21 + 4*x11*x12 - 4*x17*x19 + 4*x14*x20)*x5 - (3*(3*r - 2)*x14*x21 - 2*x17*x18 - 2*x16*x19 + 2*x15*x20)*x6)*x7 - 1/2*(3*r*x13*x19*x2 - 2*x10*x14*x16 + 2*x10*x19*x21 + 2*(x0*x11 - x1*x12)*x14 - 2*(x1*x11 + x0*x12 + x10*x15)*x17 + 2*(x0*x11 + x1*x12)*x19 - 3*((3*r - 2)*x1*x11 - (3*r - 2)*x0*x12 - (3*r - 2)*x10*x18)*x20 - (9*r*x17*x20 + 2*x11^2 - 2*x12^2 - 4*x15*x18 - 4*x16*x21)*x3 + (3*(3*r - 2)*x16*x20 - 2*x14*x18 + 2*x15*x19 - 2*x17*x21)*x4 - (3*(3*r - 2)*x15*x20 - 2*x17*x18 - 2*x16*x19 + 2*x14*x21)*x5 + (9*r*x14*x20 + 4*x11*x12 - 4*x16*x18 + 4*x15*x21)*x6 - (3*(3*r - 2)*x20*x21 + 2*x14*x15 - 2*x16*x17 - 2*x18*x19)*x7)*x8 + 1/2*((9*r - 8)*x19*x20*x8 - 2*x10*x14*x15 - 2*x10*x20*x21 - 2*(x1*x11 + x0*x12)*x14 - 2*(x0*x11 - x1*x12 - x10*x16)*x17 - 3*((3*r - 2)*x1*x11 - (3*r - 2)*x0*x12 - (3*r - 2)*x10*x18)*x19 - (3*r*x13*x2 + 2*x0*x11 + 2*x1*x12)*x20 - (9*r*x17*x19 - 4*x11*x12 + 4*x16*x18 - 4*x15*x21)*x3 + (3*(3*r - 2)*x16*x19 + 2*x17*x18 - 2*x15*x20 - 2*x14*x21)*x4 - (3*(3*r - 2)*x15*x19 - 2*x14*x18 + 2*x16*x20 - 2*x17*x21)*x5 + (9*r*x14*x19 + 2*x11^2 - 2*x12^2 - 4*x15*x18 - 4*x16*x21)*x6 - (3*(3*r - 2)*x19*x21 - 2*x14*x16 - 2*x15*x17 + 2*x18*x20)*x7)*x9\n"
     ]
    }
   ],
   "source": [
    "n = 22\n",
    "r = var(\"r\")\n",
    "x_vars = [var(\"x\"+str(i)) for i in range(n)]\n",
    "F = load(\"F.sobj\")\n",
    "print(F)"
   ]
  },
  {
   "cell_type": "code",
   "execution_count": 3,
   "id": "d22b3642-11d0-4dc4-89ca-faa6699f4a90",
   "metadata": {},
   "outputs": [
    {
     "name": "stdout",
     "output_type": "stream",
     "text": [
      "143\n",
      "\n",
      "(x0*x11, x0*x12, x0*x13, x0*x14, x0*x15, x0*x16, x0*x17, x0*x18, x0*x19, x0*x20, x0*x21, x1*x11, x1*x12, x1*x13, x1*x14, x1*x15, x1*x16, x1*x17, x1*x18, x1*x19, x1*x20, x1*x21, x11*x2, x12*x2, x13*x2, x14*x2, x15*x2, x16*x2, x17*x2, x18*x2, x19*x2, x2*x20, x2*x21, x11*x3, x12*x3, x13*x3, x14*x3, x15*x3, x16*x3, x17*x3, x18*x3, x19*x3, x20*x3, x21*x3, x11*x4, x12*x4, x13*x4, x14*x4, x15*x4, x16*x4, x17*x4, x18*x4, x19*x4, x20*x4, x21*x4, x11*x5, x12*x5, x13*x5, x14*x5, x15*x5, x16*x5, x17*x5, x18*x5, x19*x5, x20*x5, x21*x5, x11*x6, x12*x6, x13*x6, x14*x6, x15*x6, x16*x6, x17*x6, x18*x6, x19*x6, x20*x6, x21*x6, x11*x7, x12*x7, x13*x7, x14*x7, x15*x7, x16*x7, x17*x7, x18*x7, x19*x7, x20*x7, x21*x7, x11*x8, x12*x8, x13*x8, x14*x8, x15*x8, x16*x8, x17*x8, x18*x8, x19*x8, x20*x8, x21*x8, x11*x9, x12*x9, x13*x9, x14*x9, x15*x9, x16*x9, x17*x9, x18*x9, x19*x9, x20*x9, x21*x9, x10*x11, x10*x12, x10*x13, x10*x14, x10*x15, x10*x16, x10*x17, x10*x18, x10*x19, x10*x20, x10*x21, x0^2, x1^2, x2^2, x3^2, x4^2, x5^2, x6^2, x7^2, x8^2, x9^2, x10^2, x11^2, x12^2, x13^2, x14^2, x15^2, x16^2, x17^2, x18^2, x19^2, x20^2, x21^2)\n"
     ]
    }
   ],
   "source": [
    "# Monomials of degree 2\n",
    "X_mon2 = vector([x_vars[i]*x_vars[j] for i in range(n/2) for j in range(n/2,n)]+[x_vars[i]^2 for i in range(n)])\n",
    "X_mon2_len = len(X_mon2)\n",
    "print(X_mon2_len)\n",
    "print(\"\")\n",
    "print(X_mon2)"
   ]
  },
  {
   "cell_type": "markdown",
   "id": "153a9f1d-1e76-4748-8c4c-bcbb840b7e4b",
   "metadata": {},
   "source": [
    "We save `X_mon2` to `X_mon2.sobj` for future use."
   ]
  },
  {
   "cell_type": "code",
   "execution_count": 4,
   "id": "fe3431c0-90a1-4afd-b400-d9f6eb6fe1e6",
   "metadata": {},
   "outputs": [],
   "source": [
    "save(X_mon2, \"X_mon2\")"
   ]
  },
  {
   "cell_type": "markdown",
   "id": "be6123d4-f773-4c56-85a2-ee0a7f655fa5",
   "metadata": {},
   "source": [
    "An abritrary symmetric matrix $H$ of size $143 \\times 143$ has $\\frac{143 \\cdot 144}2 = 10296$ free parameters. "
   ]
  },
  {
   "cell_type": "code",
   "execution_count": 5,
   "id": "e8849382-920a-44cd-87ac-3a14fee19984",
   "metadata": {},
   "outputs": [
    {
     "name": "stdout",
     "output_type": "stream",
     "text": [
      "10296\n",
      "\n",
      "True\n",
      "\n"
     ]
    },
    {
     "data": {
      "text/html": [
       "<html>\\(\\displaystyle \\left(\\begin{array}{rrrrrrrrrrrrr}\n",
       "h_{10205} & h_{10206} & h_{10207} & h_{10208} & h_{10209} & h_{10210} & h_{10211} & h_{10212} & h_{10213} & h_{10214} & h_{10215} & h_{10216} & h_{10217} \\\\\n",
       "h_{10206} & h_{10218} & h_{10219} & h_{10220} & h_{10221} & h_{10222} & h_{10223} & h_{10224} & h_{10225} & h_{10226} & h_{10227} & h_{10228} & h_{10229} \\\\\n",
       "h_{10207} & h_{10219} & h_{10230} & h_{10231} & h_{10232} & h_{10233} & h_{10234} & h_{10235} & h_{10236} & h_{10237} & h_{10238} & h_{10239} & h_{10240} \\\\\n",
       "h_{10208} & h_{10220} & h_{10231} & h_{10241} & h_{10242} & h_{10243} & h_{10244} & h_{10245} & h_{10246} & h_{10247} & h_{10248} & h_{10249} & h_{10250} \\\\\n",
       "h_{10209} & h_{10221} & h_{10232} & h_{10242} & h_{10251} & h_{10252} & h_{10253} & h_{10254} & h_{10255} & h_{10256} & h_{10257} & h_{10258} & h_{10259} \\\\\n",
       "h_{10210} & h_{10222} & h_{10233} & h_{10243} & h_{10252} & h_{10260} & h_{10261} & h_{10262} & h_{10263} & h_{10264} & h_{10265} & h_{10266} & h_{10267} \\\\\n",
       "h_{10211} & h_{10223} & h_{10234} & h_{10244} & h_{10253} & h_{10261} & h_{10268} & h_{10269} & h_{10270} & h_{10271} & h_{10272} & h_{10273} & h_{10274} \\\\\n",
       "h_{10212} & h_{10224} & h_{10235} & h_{10245} & h_{10254} & h_{10262} & h_{10269} & h_{10275} & h_{10276} & h_{10277} & h_{10278} & h_{10279} & h_{10280} \\\\\n",
       "h_{10213} & h_{10225} & h_{10236} & h_{10246} & h_{10255} & h_{10263} & h_{10270} & h_{10276} & h_{10281} & h_{10282} & h_{10283} & h_{10284} & h_{10285} \\\\\n",
       "h_{10214} & h_{10226} & h_{10237} & h_{10247} & h_{10256} & h_{10264} & h_{10271} & h_{10277} & h_{10282} & h_{10286} & h_{10287} & h_{10288} & h_{10289} \\\\\n",
       "h_{10215} & h_{10227} & h_{10238} & h_{10248} & h_{10257} & h_{10265} & h_{10272} & h_{10278} & h_{10283} & h_{10287} & h_{10290} & h_{10291} & h_{10292} \\\\\n",
       "h_{10216} & h_{10228} & h_{10239} & h_{10249} & h_{10258} & h_{10266} & h_{10273} & h_{10279} & h_{10284} & h_{10288} & h_{10291} & h_{10293} & h_{10294} \\\\\n",
       "h_{10217} & h_{10229} & h_{10240} & h_{10250} & h_{10259} & h_{10267} & h_{10274} & h_{10280} & h_{10285} & h_{10289} & h_{10292} & h_{10294} & h_{10295}\n",
       "\\end{array}\\right)\\)</html>"
      ],
      "text/latex": [
       "$\\displaystyle \\left(\\begin{array}{rrrrrrrrrrrrr}\n",
       "h_{10205} & h_{10206} & h_{10207} & h_{10208} & h_{10209} & h_{10210} & h_{10211} & h_{10212} & h_{10213} & h_{10214} & h_{10215} & h_{10216} & h_{10217} \\\\\n",
       "h_{10206} & h_{10218} & h_{10219} & h_{10220} & h_{10221} & h_{10222} & h_{10223} & h_{10224} & h_{10225} & h_{10226} & h_{10227} & h_{10228} & h_{10229} \\\\\n",
       "h_{10207} & h_{10219} & h_{10230} & h_{10231} & h_{10232} & h_{10233} & h_{10234} & h_{10235} & h_{10236} & h_{10237} & h_{10238} & h_{10239} & h_{10240} \\\\\n",
       "h_{10208} & h_{10220} & h_{10231} & h_{10241} & h_{10242} & h_{10243} & h_{10244} & h_{10245} & h_{10246} & h_{10247} & h_{10248} & h_{10249} & h_{10250} \\\\\n",
       "h_{10209} & h_{10221} & h_{10232} & h_{10242} & h_{10251} & h_{10252} & h_{10253} & h_{10254} & h_{10255} & h_{10256} & h_{10257} & h_{10258} & h_{10259} \\\\\n",
       "h_{10210} & h_{10222} & h_{10233} & h_{10243} & h_{10252} & h_{10260} & h_{10261} & h_{10262} & h_{10263} & h_{10264} & h_{10265} & h_{10266} & h_{10267} \\\\\n",
       "h_{10211} & h_{10223} & h_{10234} & h_{10244} & h_{10253} & h_{10261} & h_{10268} & h_{10269} & h_{10270} & h_{10271} & h_{10272} & h_{10273} & h_{10274} \\\\\n",
       "h_{10212} & h_{10224} & h_{10235} & h_{10245} & h_{10254} & h_{10262} & h_{10269} & h_{10275} & h_{10276} & h_{10277} & h_{10278} & h_{10279} & h_{10280} \\\\\n",
       "h_{10213} & h_{10225} & h_{10236} & h_{10246} & h_{10255} & h_{10263} & h_{10270} & h_{10276} & h_{10281} & h_{10282} & h_{10283} & h_{10284} & h_{10285} \\\\\n",
       "h_{10214} & h_{10226} & h_{10237} & h_{10247} & h_{10256} & h_{10264} & h_{10271} & h_{10277} & h_{10282} & h_{10286} & h_{10287} & h_{10288} & h_{10289} \\\\\n",
       "h_{10215} & h_{10227} & h_{10238} & h_{10248} & h_{10257} & h_{10265} & h_{10272} & h_{10278} & h_{10283} & h_{10287} & h_{10290} & h_{10291} & h_{10292} \\\\\n",
       "h_{10216} & h_{10228} & h_{10239} & h_{10249} & h_{10258} & h_{10266} & h_{10273} & h_{10279} & h_{10284} & h_{10288} & h_{10291} & h_{10293} & h_{10294} \\\\\n",
       "h_{10217} & h_{10229} & h_{10240} & h_{10250} & h_{10259} & h_{10267} & h_{10274} & h_{10280} & h_{10285} & h_{10289} & h_{10292} & h_{10294} & h_{10295}\n",
       "\\end{array}\\right)$"
      ],
      "text/plain": [
       "[h10205 h10206 h10207 h10208 h10209 h10210 h10211 h10212 h10213 h10214 h10215 h10216 h10217]\n",
       "[h10206 h10218 h10219 h10220 h10221 h10222 h10223 h10224 h10225 h10226 h10227 h10228 h10229]\n",
       "[h10207 h10219 h10230 h10231 h10232 h10233 h10234 h10235 h10236 h10237 h10238 h10239 h10240]\n",
       "[h10208 h10220 h10231 h10241 h10242 h10243 h10244 h10245 h10246 h10247 h10248 h10249 h10250]\n",
       "[h10209 h10221 h10232 h10242 h10251 h10252 h10253 h10254 h10255 h10256 h10257 h10258 h10259]\n",
       "[h10210 h10222 h10233 h10243 h10252 h10260 h10261 h10262 h10263 h10264 h10265 h10266 h10267]\n",
       "[h10211 h10223 h10234 h10244 h10253 h10261 h10268 h10269 h10270 h10271 h10272 h10273 h10274]\n",
       "[h10212 h10224 h10235 h10245 h10254 h10262 h10269 h10275 h10276 h10277 h10278 h10279 h10280]\n",
       "[h10213 h10225 h10236 h10246 h10255 h10263 h10270 h10276 h10281 h10282 h10283 h10284 h10285]\n",
       "[h10214 h10226 h10237 h10247 h10256 h10264 h10271 h10277 h10282 h10286 h10287 h10288 h10289]\n",
       "[h10215 h10227 h10238 h10248 h10257 h10265 h10272 h10278 h10283 h10287 h10290 h10291 h10292]\n",
       "[h10216 h10228 h10239 h10249 h10258 h10266 h10273 h10279 h10284 h10288 h10291 h10293 h10294]\n",
       "[h10217 h10229 h10240 h10250 h10259 h10267 h10274 h10280 h10285 h10289 h10292 h10294 h10295]"
      ]
     },
     "execution_count": 5,
     "metadata": {},
     "output_type": "execute_result"
    }
   ],
   "source": [
    "H = matrix(SR, X_mon2_len, X_mon2_len)\n",
    "H_vars = [var(\"h\"+str(i)) for i in range(X_mon2_len * (X_mon2_len + 1) / 2)]\n",
    "count = 0\n",
    "for i in range(X_mon2_len):\n",
    "    for j in range(i,X_mon2_len):\n",
    "        H[i, j] = H[j, i] = H_vars[count]\n",
    "        count += 1\n",
    "print(len(H_vars))\n",
    "print(\"\")\n",
    "print(H.is_symmetric())\n",
    "print(\"\")\n",
    "H[130:,130:] # example"
   ]
  },
  {
   "cell_type": "markdown",
   "id": "ed284559-e4be-4bbe-a9e0-65893bfd178d",
   "metadata": {},
   "source": [
    "Now we definie $G = \\boldsymbol x^T H \\boldsymbol x$ and the we solve the linear system $F - G = 0$. "
   ]
  },
  {
   "cell_type": "code",
   "execution_count": 6,
   "id": "582ee3e6-fb3c-4ea3-8517-07499d44b548",
   "metadata": {},
   "outputs": [],
   "source": [
    "G = (X_mon2 * H * X_mon2).expand()"
   ]
  },
  {
   "cell_type": "markdown",
   "id": "78b654db-bd7a-4d28-8f1d-9cc3d7f427f3",
   "metadata": {},
   "source": [
    "We start by defining the relevant monomials of degree $4$."
   ]
  },
  {
   "cell_type": "code",
   "execution_count": 7,
   "id": "62196662-cb3a-4646-a928-719bc0e8cd16",
   "metadata": {},
   "outputs": [
    {
     "name": "stdout",
     "output_type": "stream",
     "text": [
      "7150\n"
     ]
    }
   ],
   "source": [
    "X_mon4 = list({mon1 * mon2 for mon1 in X_mon2 for mon2 in X_mon2})\n",
    "print(len(X_mon4))"
   ]
  },
  {
   "cell_type": "code",
   "execution_count": 8,
   "id": "1a51ba01-1dc8-47b2-9640-87c2956c75c4",
   "metadata": {},
   "outputs": [
    {
     "name": "stdout",
     "output_type": "stream",
     "text": [
      "CPU times: user 1.11 s, sys: 71 μs, total: 1.11 s\n",
      "Wall time: 1.11 s\n"
     ]
    }
   ],
   "source": [
    "%time F_dict = {mon: F.coefficient(mon) for mon in X_mon4}"
   ]
  },
  {
   "cell_type": "code",
   "execution_count": 9,
   "id": "c6e74f52-5dfb-4619-99b1-91318e0c027d",
   "metadata": {},
   "outputs": [
    {
     "name": "stdout",
     "output_type": "stream",
     "text": [
      "CPU times: user 28.1 s, sys: 6.43 ms, total: 28.1 s\n",
      "Wall time: 28.1 s\n"
     ]
    }
   ],
   "source": [
    "# long time\n",
    "%time G_dict = {mon: G.coefficient(mon) for mon in X_mon4}"
   ]
  },
  {
   "cell_type": "code",
   "execution_count": 10,
   "id": "4348f642-976d-431f-85a8-8a37c7182389",
   "metadata": {},
   "outputs": [
    {
     "name": "stdout",
     "output_type": "stream",
     "text": [
      "CPU times: user 57.9 ms, sys: 20 μs, total: 57.9 ms\n",
      "Wall time: 57.4 ms\n"
     ]
    }
   ],
   "source": [
    "%time H_eqs_dict = {mon: F_dict[mon] - G_dict[mon] == 0 for mon in X_mon4}\n",
    "H_eqs = list(H_eqs_dict.values())"
   ]
  },
  {
   "cell_type": "code",
   "execution_count": 11,
   "id": "8d7a4311-d576-4096-a172-a26741e877de",
   "metadata": {},
   "outputs": [
    {
     "name": "stdout",
     "output_type": "stream",
     "text": [
      "CPU times: user 23.6 s, sys: 82.7 ms, total: 23.7 s\n",
      "Wall time: 23.9 s\n"
     ]
    }
   ],
   "source": [
    "# long time\n",
    "%time H_sols = solve(H_eqs, H_vars, algorithm=\"sympy\")"
   ]
  },
  {
   "cell_type": "markdown",
   "id": "c48c5bf8-dc0d-4037-b936-db2e6f0fb2d3",
   "metadata": {},
   "source": [
    "Now we save the general solution for future use. Making the substitution `H.subs(H_sols)` is very expensive but here's a workaround."
   ]
  },
  {
   "cell_type": "code",
   "execution_count": 12,
   "id": "b0705c40-de89-489f-8cb1-d2c073269895",
   "metadata": {},
   "outputs": [
    {
     "data": {
      "text/html": [
       "<html>\\(\\displaystyle \\left(\\begin{array}{rrrrrrrrrr}\n",
       "-2 \\, h_{10103} + \\frac{3}{4} \\, r & 0 & 0 & h_{3858} & h_{3859} & h_{3860} & h_{3861} & h_{3862} & h_{3863} & h_{3864} \\\\\n",
       "0 & -2 \\, h_{10104} + \\frac{3}{4} \\, r & 0 & h_{3970} & h_{3971} & h_{3972} & h_{3973} & h_{3974} & h_{3975} & h_{3976} \\\\\n",
       "0 & 0 & -2 \\, h_{10105} + \\frac{3}{4} \\, r & h_{4081} & h_{4082} & h_{4083} & h_{4084} & h_{4085} & h_{4086} & h_{4087} \\\\\n",
       "h_{3858} & h_{3970} & h_{4081} & -2 \\, h_{10114} + \\frac{1}{2} & 0 & 0 & 0 & 0 & 0 & 0 \\\\\n",
       "h_{3859} & h_{3971} & h_{4082} & 0 & -2 \\, h_{10115} + \\frac{1}{2} & 0 & 0 & 0 & 0 & 0 \\\\\n",
       "h_{3860} & h_{3972} & h_{4083} & 0 & 0 & -2 \\, h_{10116} + \\frac{3}{4} \\, r & 0 & 0 & 0 & 0 \\\\\n",
       "h_{3861} & h_{3973} & h_{4084} & 0 & 0 & 0 & -2 \\, h_{10117} & 0 & 0 & 0 \\\\\n",
       "h_{3862} & h_{3974} & h_{4085} & 0 & 0 & 0 & 0 & -2 \\, h_{10118} + \\frac{1}{2} & 0 & 0 \\\\\n",
       "h_{3863} & h_{3975} & h_{4086} & 0 & 0 & 0 & 0 & 0 & -2 \\, h_{10119} + \\frac{1}{2} & 0 \\\\\n",
       "h_{3864} & h_{3976} & h_{4087} & 0 & 0 & 0 & 0 & 0 & 0 & -2 \\, h_{10120} - \\frac{9}{4} \\, r + 2\n",
       "\\end{array}\\right)\\)</html>"
      ],
      "text/latex": [
       "$\\displaystyle \\left(\\begin{array}{rrrrrrrrrr}\n",
       "-2 \\, h_{10103} + \\frac{3}{4} \\, r & 0 & 0 & h_{3858} & h_{3859} & h_{3860} & h_{3861} & h_{3862} & h_{3863} & h_{3864} \\\\\n",
       "0 & -2 \\, h_{10104} + \\frac{3}{4} \\, r & 0 & h_{3970} & h_{3971} & h_{3972} & h_{3973} & h_{3974} & h_{3975} & h_{3976} \\\\\n",
       "0 & 0 & -2 \\, h_{10105} + \\frac{3}{4} \\, r & h_{4081} & h_{4082} & h_{4083} & h_{4084} & h_{4085} & h_{4086} & h_{4087} \\\\\n",
       "h_{3858} & h_{3970} & h_{4081} & -2 \\, h_{10114} + \\frac{1}{2} & 0 & 0 & 0 & 0 & 0 & 0 \\\\\n",
       "h_{3859} & h_{3971} & h_{4082} & 0 & -2 \\, h_{10115} + \\frac{1}{2} & 0 & 0 & 0 & 0 & 0 \\\\\n",
       "h_{3860} & h_{3972} & h_{4083} & 0 & 0 & -2 \\, h_{10116} + \\frac{3}{4} \\, r & 0 & 0 & 0 & 0 \\\\\n",
       "h_{3861} & h_{3973} & h_{4084} & 0 & 0 & 0 & -2 \\, h_{10117} & 0 & 0 & 0 \\\\\n",
       "h_{3862} & h_{3974} & h_{4085} & 0 & 0 & 0 & 0 & -2 \\, h_{10118} + \\frac{1}{2} & 0 & 0 \\\\\n",
       "h_{3863} & h_{3975} & h_{4086} & 0 & 0 & 0 & 0 & 0 & -2 \\, h_{10119} + \\frac{1}{2} & 0 \\\\\n",
       "h_{3864} & h_{3976} & h_{4087} & 0 & 0 & 0 & 0 & 0 & 0 & -2 \\, h_{10120} - \\frac{9}{4} \\, r + 2\n",
       "\\end{array}\\right)$"
      ],
      "text/plain": [
       "[    -2*h10103 + 3/4*r                     0                     0                 h3858                 h3859                 h3860                 h3861                 h3862                 h3863                 h3864]\n",
       "[                    0     -2*h10104 + 3/4*r                     0                 h3970                 h3971                 h3972                 h3973                 h3974                 h3975                 h3976]\n",
       "[                    0                     0     -2*h10105 + 3/4*r                 h4081                 h4082                 h4083                 h4084                 h4085                 h4086                 h4087]\n",
       "[                h3858                 h3970                 h4081       -2*h10114 + 1/2                     0                     0                     0                     0                     0                     0]\n",
       "[                h3859                 h3971                 h4082                     0       -2*h10115 + 1/2                     0                     0                     0                     0                     0]\n",
       "[                h3860                 h3972                 h4083                     0                     0     -2*h10116 + 3/4*r                     0                     0                     0                     0]\n",
       "[                h3861                 h3973                 h4084                     0                     0                     0             -2*h10117                     0                     0                     0]\n",
       "[                h3862                 h3974                 h4085                     0                     0                     0                     0       -2*h10118 + 1/2                     0                     0]\n",
       "[                h3863                 h3975                 h4086                     0                     0                     0                     0                     0       -2*h10119 + 1/2                     0]\n",
       "[                h3864                 h3976                 h4087                     0                     0                     0                     0                     0                     0 -2*h10120 - 9/4*r + 2]"
      ]
     },
     "execution_count": 12,
     "metadata": {},
     "output_type": "execute_result"
    }
   ],
   "source": [
    "H_sols_dict = H_sols[0]\n",
    "H_sols_keys_list = list(H_sols_dict.keys())\n",
    "\n",
    "H1_vars = H_vars.copy()\n",
    "\n",
    "H_vars_index = {}\n",
    "count = 0\n",
    "for hi in H_vars:\n",
    "    H_vars_index[hi] = count\n",
    "    count += 1\n",
    "    \n",
    "for k in H_sols_keys_list:\n",
    "    ind = H_vars_index[k]\n",
    "    H1_vars[ind] = H_sols_dict[k]\n",
    "\n",
    "H1 = matrix(SR, X_mon2_len, X_mon2_len)\n",
    "count = 0\n",
    "for i in range(X_mon2_len):\n",
    "    for j in range(i,X_mon2_len):\n",
    "        H1[i, j] = H1[j, i] = H1_vars[count]\n",
    "        count += 1\n",
    "        \n",
    "H1[30:40,30:40] # example"
   ]
  },
  {
   "cell_type": "markdown",
   "id": "5099b4aa-1d4b-4eb9-8d38-6802cc395043",
   "metadata": {},
   "source": [
    "We check for symmetry."
   ]
  },
  {
   "cell_type": "code",
   "execution_count": 13,
   "id": "94e8acf7-535f-4b91-ada2-d0e8e5e4c67b",
   "metadata": {},
   "outputs": [
    {
     "data": {
      "text/html": [
       "<html>\\(\\displaystyle \\mathrm{True}\\)</html>"
      ],
      "text/latex": [
       "$\\displaystyle \\mathrm{True}$"
      ],
      "text/plain": [
       "True"
      ]
     },
     "execution_count": 13,
     "metadata": {},
     "output_type": "execute_result"
    }
   ],
   "source": [
    "H1.is_symmetric()"
   ]
  },
  {
   "cell_type": "markdown",
   "id": "96a6b484-5355-4571-9cc8-71a793c15838",
   "metadata": {},
   "source": [
    "We check that `H1` is the desired solution."
   ]
  },
  {
   "cell_type": "code",
   "execution_count": 14,
   "id": "6fb5bb83-854c-4344-82ca-7a7776ed710a",
   "metadata": {},
   "outputs": [
    {
     "data": {
      "text/html": [
       "<html>\\(\\displaystyle 0\\)</html>"
      ],
      "text/latex": [
       "$\\displaystyle 0$"
      ],
      "text/plain": [
       "0"
      ]
     },
     "execution_count": 14,
     "metadata": {},
     "output_type": "execute_result"
    }
   ],
   "source": [
    "(X_mon2 * H1 * X_mon2 - F).expand()"
   ]
  },
  {
   "cell_type": "code",
   "execution_count": 15,
   "id": "7eff3f4f-71f9-4c30-9475-e6258a004923",
   "metadata": {},
   "outputs": [],
   "source": [
    "save(H1, \"H_gen_matrix\")"
   ]
  }
 ],
 "metadata": {
  "kernelspec": {
   "display_name": "SageMath 10.4",
   "language": "sage",
   "name": "sagemath"
  },
  "language_info": {
   "codemirror_mode": {
    "name": "ipython",
    "version": 3
   },
   "file_extension": ".py",
   "mimetype": "text/x-python",
   "name": "python",
   "nbconvert_exporter": "python",
   "pygments_lexer": "ipython3",
   "version": "3.12.5"
  }
 },
 "nbformat": 4,
 "nbformat_minor": 5
}
