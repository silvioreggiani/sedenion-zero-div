{
 "cells": [
  {
   "cell_type": "code",
   "execution_count": 1,
   "id": "5d19aacc-ec46-4dc9-88fb-a53d7104a748",
   "metadata": {},
   "outputs": [
    {
     "data": {
      "text/html": [
       "<html>\\(\\displaystyle \\verb|SageMath|\\verb| |\\verb|version|\\verb| |\\verb|10.4,|\\verb| |\\verb|Release|\\verb| |\\verb|Date:|\\verb| |\\verb|2024-07-19|\\)</html>"
      ],
      "text/latex": [
       "$\\displaystyle \\verb|SageMath|\\verb| |\\verb|version|\\verb| |\\verb|10.4,|\\verb| |\\verb|Release|\\verb| |\\verb|Date:|\\verb| |\\verb|2024-07-19|$"
      ],
      "text/plain": [
       "'SageMath version 10.4, Release Date: 2024-07-19'"
      ]
     },
     "execution_count": 1,
     "metadata": {},
     "output_type": "execute_result"
    }
   ],
   "source": [
    "# SageMath version at least 10.4\n",
    "%display latex\n",
    "version()"
   ]
  },
  {
   "cell_type": "code",
   "execution_count": 2,
   "id": "e35de059-887c-44db-9b76-9f97391b3a30",
   "metadata": {},
   "outputs": [],
   "source": [
    "load(\"cayley-dickson.sage\", \"lie-algebras.sage\")"
   ]
  },
  {
   "cell_type": "markdown",
   "id": "7a680bd6-f7de-4c40-839e-d416fc48014e",
   "metadata": {},
   "source": [
    "We work with the orthonormal basis (with respect to the bi-invariant metric) $X_0, \\ldots, X_{13}$ of $\\mathfrak g_2$ which was also used in `G2-left-invariant-metric.ipynb`."
   ]
  },
  {
   "cell_type": "code",
   "execution_count": 3,
   "id": "613dd0c1-51fe-409f-b680-61d6e411ef96",
   "metadata": {},
   "outputs": [],
   "source": [
    "on_basis_biinv = load(\"on_basis.sobj\")"
   ]
  },
  {
   "cell_type": "markdown",
   "id": "d9c4ee3e-bbf6-4b85-a45a-64531167dcc0",
   "metadata": {},
   "source": [
    "We keep the notations\n",
    "\\begin{align*}\n",
    "\\mathfrak k_0 & = \\mathbb R X_0 \\oplus \\mathbb R X_1 \\oplus \\mathbb R X_2 \\\\\n",
    "\\mathfrak m_0 & = \\mathbb R X_3 \\oplus \\mathbb R X_4 \\oplus \\mathbb R X_5 \\\\\n",
    "\\mathfrak m_1 & = \\mathbb R X_6 \\oplus \\mathbb R X_7 \\oplus \\mathbb R X_8 \\oplus \\mathbb R X_9 \\\\\n",
    "\\mathfrak m_2 & = \\mathbb R X_{10} \\oplus \\mathbb R X_{11} \\oplus \\mathbb R X_{12} \\oplus \\mathbb R X_{13}\n",
    "\\end{align*}\n",
    "\n",
    "Let $K_0 \\simeq \\operatorname{SU}(2)$ be the subgroup of $G_2$ with Lie algebra $\\mathfrak k_0$ (which we have already proven to be a Lie subalgebra of $\\mathfrak g_2$). If $\\mathfrak m = \\mathfrak m_0 \\oplus \\mathfrak m_1 \\oplus \\mathfrak m_2$, then \n",
    "$$\\mathfrak g_2 = \\mathfrak k_0 \\oplus \\mathfrak m$$\n",
    "is a reductive decomposition.\n",
    "\n",
    "Let us consider the isometric action of $G_2$ on $ZD(\\mathbb S)$. Recall that this action is transitive, so $ZD(\\mathbb S) = G_2 \\cdot u_0 \\simeq V_2(\\mathbb R^7)$ for any $u_0 \\in ZD(\\mathbb S)$. Moreover, if $u_0 = e_1 + e_{10}$ then the isotropy group at $u_0$ is $K_0$. Indeed,"
   ]
  },
  {
   "cell_type": "code",
   "execution_count": 4,
   "id": "1d77ced3-0b0b-43ee-9e15-dcefbf8ae92c",
   "metadata": {},
   "outputs": [
    {
     "data": {
      "text/html": [
       "<html>\\(\\displaystyle \\mathrm{True}\\)</html>"
      ],
      "text/latex": [
       "$\\displaystyle \\mathrm{True}$"
      ],
      "text/plain": [
       "True"
      ]
     },
     "metadata": {},
     "output_type": "display_data"
    },
    {
     "data": {
      "text/html": [
       "<html>\\(\\displaystyle \\mathrm{True}\\)</html>"
      ],
      "text/latex": [
       "$\\displaystyle \\mathrm{True}$"
      ],
      "text/plain": [
       "True"
      ]
     },
     "execution_count": 4,
     "metadata": {},
     "output_type": "execute_result"
    }
   ],
   "source": [
    "e = identity_matrix(16).columns()\n",
    "u0, v0 = e[1] + e[10], e[4] - e[15]\n",
    "# check u0 is a zero divisor\n",
    "display(prod_S(u0, v0) == 0)\n",
    "# check that k0 is the isotropy subalgebra\n",
    "all(block_diagonal_matrix([X, X]) * u0 == 0 for X in on_basis_biinv[:3]) #"
   ]
  },
  {
   "cell_type": "markdown",
   "id": "b8d0315d-ba8c-464b-81d4-24f5afc23c33",
   "metadata": {},
   "source": [
    "The metric in $ZD(\\mathbb S)$ induces a $G_2$-invariant metric $g$ on $V_2(\\mathbb R^7) = G_2 / \\operatorname{SU}(2)$, which is determined by the inner product on $\\mathfrak m$ given by\n",
    "$$g(X_i, X_j) = (X_i \\cdot u_0)^T (X_i \\cdot u_0), \\qquad i,j = 3, \\ldots, 13.$$"
   ]
  },
  {
   "cell_type": "code",
   "execution_count": 5,
   "id": "c10d2594-56d9-404a-8a34-66b073457e95",
   "metadata": {},
   "outputs": [
    {
     "data": {
      "text/html": [
       "<html>\\(\\displaystyle \\mathrm{True}\\)</html>"
      ],
      "text/latex": [
       "$\\displaystyle \\mathrm{True}$"
      ],
      "text/plain": [
       "True"
      ]
     },
     "metadata": {},
     "output_type": "display_data"
    },
    {
     "data": {
      "text/html": [
       "<html>\\(\\displaystyle \\left[\\frac{1}{3}, \\frac{1}{3}, \\frac{2}{3}, \\frac{1}{2}, \\frac{1}{2}, \\frac{1}{2}, \\frac{1}{2}, \\frac{1}{6}, \\frac{1}{6}, \\frac{1}{6}, \\frac{1}{6}\\right]\\)</html>"
      ],
      "text/latex": [
       "$\\displaystyle \\left[\\frac{1}{3}, \\frac{1}{3}, \\frac{2}{3}, \\frac{1}{2}, \\frac{1}{2}, \\frac{1}{2}, \\frac{1}{2}, \\frac{1}{6}, \\frac{1}{6}, \\frac{1}{6}, \\frac{1}{6}\\right]$"
      ],
      "text/plain": [
       "[1/3, 1/3, 2/3, 1/2, 1/2, 1/2, 1/2, 1/6, 1/6, 1/6, 1/6]"
      ]
     },
     "execution_count": 5,
     "metadata": {},
     "output_type": "execute_result"
    }
   ],
   "source": [
    "m_initial_basis = on_basis_biinv[3:]\n",
    "V2R7_metric_matrix = matrix(11, 11, lambda i, j: (block_diagonal_matrix([m_initial_basis[i],m_initial_basis[i]]) * u0\n",
    "                            ) * (block_diagonal_matrix([m_initial_basis[j],m_initial_basis[j]]) * u0))\n",
    "display(V2R7_metric_matrix.is_diagonal())\n",
    "V2R7_metric_matrix.diagonal()"
   ]
  },
  {
   "cell_type": "markdown",
   "id": "b79cc84b-c10c-4bce-87b9-db868aae7d5a",
   "metadata": {},
   "source": [
    "Thus, the $G_2$-invariant metric on $V_2(\\mathbb R^7)$ is \n",
    "$$g = \\frac13 (X^3 \\otimes X^3 + X^4 \\otimes X^4) + \\frac23 X^5 \\otimes X^5 + \\frac12 \\sum_{i=6}^9 X^i \\otimes X^i + \\frac16 \\sum_{i=10}^{13} X^i \\otimes X^i.$$\n",
    "\n",
    "We will study the the family of $G_2$-invariant metrics $g_r$, $r >0$, given by\n",
    "$$\\frac13 (X^3 \\otimes X^3 + X^4 \\otimes X^4) + r X^5 \\otimes X^5 + \\frac12 \\sum_{i=6}^9 X^i \\otimes X^i + \\frac16 \\sum_{i=10}^{13} X^i \\otimes X^i$$\n",
    "Notice that $g = g_{\\frac23}$."
   ]
  },
  {
   "cell_type": "markdown",
   "id": "9b9651d4-2891-4a8d-bab6-a8a14ab73cf5",
   "metadata": {},
   "source": [
    "## Definition of $g_r$\n",
    "\n",
    "We define a function to compute $g_r$, which is called `metric_m`."
   ]
  },
  {
   "cell_type": "code",
   "execution_count": 6,
   "id": "9126f5c9-8e99-406d-b102-7f0ba26a27c2",
   "metadata": {},
   "outputs": [],
   "source": [
    "r = var(\"r\")\n",
    "diagonal = [1/3, 1/3, r, 1/2, 1/2, 1/2, 1/2, 1/6, 1/6, 1/6, 1/6]\n",
    "\n",
    "def S(X):\n",
    "    return sum([diagonal[i] * biinv_metric(X, m_initial_basis[i]) * m_initial_basis[i] for i in range(11)])\n",
    "\n",
    "def metric_m(X, Y):\n",
    "    return biinv_metric(X, S(Y))"
   ]
  },
  {
   "cell_type": "code",
   "execution_count": 7,
   "id": "073c2f63-946a-4ac9-850c-25b7fac0ab3d",
   "metadata": {},
   "outputs": [
    {
     "data": {
      "text/html": [
       "<html>\\(\\displaystyle \\mathrm{True}\\)</html>"
      ],
      "text/latex": [
       "$\\displaystyle \\mathrm{True}$"
      ],
      "text/plain": [
       "True"
      ]
     },
     "metadata": {},
     "output_type": "display_data"
    },
    {
     "data": {
      "text/html": [
       "<html>\\(\\displaystyle \\left[\\frac{1}{3}, \\frac{1}{3}, r, \\frac{1}{2}, \\frac{1}{2}, \\frac{1}{2}, \\frac{1}{2}, \\frac{1}{6}, \\frac{1}{6}, \\frac{1}{6}, \\frac{1}{6}\\right]\\)</html>"
      ],
      "text/latex": [
       "$\\displaystyle \\left[\\frac{1}{3}, \\frac{1}{3}, r, \\frac{1}{2}, \\frac{1}{2}, \\frac{1}{2}, \\frac{1}{2}, \\frac{1}{6}, \\frac{1}{6}, \\frac{1}{6}, \\frac{1}{6}\\right]$"
      ],
      "text/plain": [
       "[1/3, 1/3, r, 1/2, 1/2, 1/2, 1/2, 1/6, 1/6, 1/6, 1/6]"
      ]
     },
     "execution_count": 7,
     "metadata": {},
     "output_type": "execute_result"
    }
   ],
   "source": [
    "metric_m_matrix = matrix(11, 11, lambda i, j: metric_m(m_initial_basis[i], m_initial_basis[j]))\n",
    "display(metric_m_matrix.is_diagonal())\n",
    "metric_m_matrix.diagonal()"
   ]
  },
  {
   "cell_type": "markdown",
   "id": "dc99da44-dbe5-483e-96c4-4c2485708117",
   "metadata": {},
   "source": [
    "We check that $g_r$ is indeed an $\\operatorname{Ad}(K_0)$-invariant inner product on $\\mathfrak m$."
   ]
  },
  {
   "cell_type": "code",
   "execution_count": 8,
   "id": "cbf5c7d2-3989-49a2-902a-88c9f2b43c1c",
   "metadata": {},
   "outputs": [
    {
     "name": "stdout",
     "output_type": "stream",
     "text": [
      "CPU times: user 4.45 s, sys: 434 μs, total: 4.45 s\n",
      "Wall time: 4.45 s\n"
     ]
    },
    {
     "data": {
      "text/html": [
       "<html>\\(\\displaystyle \\mathrm{True}\\)</html>"
      ],
      "text/latex": [
       "$\\displaystyle \\mathrm{True}$"
      ],
      "text/plain": [
       "True"
      ]
     },
     "execution_count": 8,
     "metadata": {},
     "output_type": "execute_result"
    }
   ],
   "source": [
    "# define an orthonormal basis of m\n",
    "m_on_basis = gram_schmidt(m_initial_basis, metric_m)\n",
    "\n",
    "def ad_matrix_m(X):\n",
    "    return matrix(11, 11, lambda i, j: metric_m(lie_bracket(X, m_on_basis[j]), m_on_basis[i]))\n",
    "\n",
    "%time all(ad_matrix_m(X).is_skew_symmetric() for X in on_basis_biinv[:3])"
   ]
  },
  {
   "cell_type": "markdown",
   "id": "3855ccd0-004b-427c-94e0-f1abcc0d5ac6",
   "metadata": {},
   "source": [
    "## The geometry of $(V_2(\\mathbb R^7), g_r)$\n",
    "\n",
    "Recall that the sectional curvature of $g_r$ can be computed as\n",
    "\\begin{align*}\n",
    "g_r(R(X, Y) X, Y)  = & -\\frac34 g_r( [X, Y]_{\\mathfrak m}, [X, Y]_{\\mathfrak m}) - \\frac12 g_r [X, [X, Y]_{\\mathfrak m} ]_{\\mathfrak m}, Y) \\\\\n",
    "& -\\frac12 g_r( [Y, [Y, X]_{\\mathfrak m} ]_{\\mathfrak m}, X) + g_r( U(X, Y), U(X, Y)) \\\\\n",
    "& - g_r( U(X, X), U(Y, Y) ) + g_r( Y, [ [X, Y]_{\\mathfrak h}, X]_{\\mathfrak m})\n",
    "\\end{align*}\n",
    "for $X, Y \\in \\mathfrak m$, where $R$ is the Riemannian curvature tensor of $g_r$ and $U: \\mathfrak m \\times \\mathfrak m \\to \\mathfrak m$ is implicitly given by the formula\n",
    "$$2 g_r( U(X, Y), Z ) = g_r( [Z, X]_{\\mathfrak m}, Y ) + g_r( X, [Z, Y]_{\\mathfrak m} )$$\n",
    "for $X, Y, Z \\in \\mathfrak m$. We can also compute the Ricci tensor $\\operatorname{Ric}$ of $g_r$ as\n",
    "\\begin{align}\n",
    "  \\operatorname{Ric}(X, X) = & -\\frac12 \\sum_i \\{\\| [X, Y_i]_{\\mathfrak m}\\|^2 + g_r([X, [X, Y_i]_{\\mathfrak m} ]_{\\mathfrak m}, Y_i) + 2 g_r([ X, [X, Y_i]_{\\mathfrak h} ]_{\\mathfrak m}, Y_i)\\} \\\\\n",
    "   & + \\frac14 \\sum_{i, j} g_r([Y_i, Y_j]_{\\mathfrak m}, X)^2 \n",
    "  - g_r([Z, X]_{\\mathfrak m}, X), \n",
    "\\end{align}\n",
    "for $X \\in \\mathfrak m$, where $\\{Y_i\\}$ is an orthonormal basis of $\\mathfrak m$ and $Z = \\sum_i U(Y_i, Y_i)$."
   ]
  },
  {
   "cell_type": "markdown",
   "id": "64e6f094-1de6-4b41-8f76-8f303ad9a172",
   "metadata": {},
   "source": [
    "First of all we define the projections $[-, -]_{\\mathfrak k_0}$ and $[-, -]_{\\mathfrak m}$"
   ]
  },
  {
   "cell_type": "code",
   "execution_count": 9,
   "id": "e744c142-caa4-4ecd-b8d6-a317c1781e52",
   "metadata": {},
   "outputs": [],
   "source": [
    "def proj_k0(X):\n",
    "    return X - sum([biinv_metric(X, Y) * Y for Y in m_initial_basis])\n",
    "\n",
    "def proj_m(X):\n",
    "    return X - sum([biinv_metric(X, Y) * Y for Y in on_basis_biinv[:3]])"
   ]
  },
  {
   "cell_type": "markdown",
   "id": "cff49976-ff1c-4de6-af2c-31ff27f0ff18",
   "metadata": {},
   "source": [
    "Next we define $U$ via the function `U_tensor`."
   ]
  },
  {
   "cell_type": "code",
   "execution_count": 10,
   "id": "a3ef6c18-c9a6-4cd2-857b-528abd905a77",
   "metadata": {},
   "outputs": [],
   "source": [
    "def U_tensor(X, Y):\n",
    "    return (1/2) * sum([(metric_m(proj_m(lie_bracket(Z,X)),Y) \n",
    "                         + metric_m(X, proj_m(lie_bracket(Z, Y)))) * Z for Z in m_on_basis])"
   ]
  },
  {
   "cell_type": "code",
   "execution_count": 11,
   "id": "09aa6403-43e0-4957-ad46-4c76378604f3",
   "metadata": {},
   "outputs": [],
   "source": [
    "# One can check that the metric is not naturally reductive\n",
    "# long time\n",
    "# %time all([U_tensor(X, Y) == 0 for X in m_on_basis for Y in m_on_basis])"
   ]
  },
  {
   "cell_type": "markdown",
   "id": "6f735845-aff9-406f-8dac-a4e41dd3e577",
   "metadata": {},
   "source": [
    "Now we define de function `sec_curv` to compute $g_r(R_{X, Y}X, Y)$. Notice that when `X, Y` is an orthonormal $2$-frame, `sec_curv(X, Y)` computes the sectional curvature of the plane generated by `X, Y`."
   ]
  },
  {
   "cell_type": "code",
   "execution_count": 12,
   "id": "465a431a-757c-463d-b433-f0272622051f",
   "metadata": {},
   "outputs": [],
   "source": [
    "def sec_curv(X, Y):\n",
    "    sum1 = -(3/4) * metric_m(proj_m(lie_bracket(X, Y)), proj_m(lie_bracket(X, Y)))\n",
    "    sum2 = -(1/2) * metric_m(proj_m(lie_bracket(X, proj_m(lie_bracket(X, Y)))), Y)\n",
    "    sum3 = -(1/2) * metric_m(proj_m(lie_bracket(Y, proj_m(lie_bracket(Y, X)))), X)\n",
    "    sum4 = metric_m(U_tensor(X, Y), U_tensor(X, Y))\n",
    "    sum5 = -metric_m(U_tensor(X, X), U_tensor(Y, Y))\n",
    "    sum6 = metric_m(Y, proj_m(lie_bracket(proj_k0(lie_bracket(X, Y)), X)))\n",
    "    return sum1 + sum2 + sum3 + sum4 + sum5 + sum6"
   ]
  },
  {
   "cell_type": "markdown",
   "id": "e32dc6cc-a2c5-406d-9034-e44b5ce8a7d3",
   "metadata": {},
   "source": [
    "For example, we can see that if $r > \\frac49$, then the sectional curvature of the plane $\\mathbb R X_3 \\oplus \\mathbb R X_4$ is negative (this is used in the proof of Theorem 4.4)."
   ]
  },
  {
   "cell_type": "code",
   "execution_count": 13,
   "id": "addc5972-f935-40ae-b76f-3c19b6625ba0",
   "metadata": {},
   "outputs": [
    {
     "name": "stdout",
     "output_type": "stream",
     "text": [
      "CPU times: user 1.68 s, sys: 33 μs, total: 1.68 s\n",
      "Wall time: 1.68 s\n"
     ]
    },
    {
     "data": {
      "text/html": [
       "<html>\\(\\displaystyle -\\frac{9}{4} \\, r + 1\\)</html>"
      ],
      "text/latex": [
       "$\\displaystyle -\\frac{9}{4} \\, r + 1$"
      ],
      "text/plain": [
       "-9/4*r + 1"
      ]
     },
     "execution_count": 13,
     "metadata": {},
     "output_type": "execute_result"
    }
   ],
   "source": [
    "%time sec_curv(m_on_basis[0], m_on_basis[1])"
   ]
  },
  {
   "cell_type": "markdown",
   "id": "005adb44-4077-4865-aaa2-fe712860cd61",
   "metadata": {},
   "source": [
    "Now we implement the following functions in order to compute the Ricci tensor."
   ]
  },
  {
   "cell_type": "code",
   "execution_count": 14,
   "id": "d934c489-6308-4c8b-b349-f103d389151c",
   "metadata": {},
   "outputs": [
    {
     "name": "stdout",
     "output_type": "stream",
     "text": [
      "CPU times: user 7.74 s, sys: 150 ms, total: 7.89 s\n",
      "Wall time: 6.73 s\n"
     ]
    }
   ],
   "source": [
    "sum_Uii = sum([U_tensor(X, X) for X in m_on_basis])\n",
    "%time XiXj = {(i,j): proj_m(lie_bracket(m_on_basis[i], m_on_basis[j])).canonicalize_radical() for i in range(11) for j in range(11)}"
   ]
  },
  {
   "cell_type": "code",
   "execution_count": 15,
   "id": "9c1b8119-caf3-4718-9882-273971f5fbf8",
   "metadata": {},
   "outputs": [],
   "source": [
    "def ricci_quadratic_form(X):\n",
    "    XXi_m = [proj_m(lie_bracket(X, Y)) for Y in m_on_basis]\n",
    "    XXXi_mm = [proj_m(lie_bracket(X, XXi_m[i])) for i in range(11)]\n",
    "    XXXi_hm = [proj_m(lie_bracket(X,proj_k0(lie_bracket(X, Y)))) for Y in m_on_basis]\n",
    "    sum1 = -(1/2) * sum([metric_m(Y, Y) for Y in XXi_m])\n",
    "    sum2 = -(1/2) * sum([metric_m(XXXi_mm[i], m_on_basis[i]) for i in range(11)])\n",
    "    sum3 = -sum([metric_m(XXXi_hm[i], m_on_basis[i]) for i in range(11)])\n",
    "    sum4 = (1/4) * sum([metric_m(XiXj[(i,j)], X)^2 for i in range(11) for j in range(11)])\n",
    "    sum5 = -metric_m(proj_m(lie_bracket(sum_Uii, X)), X)\n",
    "    return sum1 + sum2 + sum3 + sum4 + sum5"
   ]
  },
  {
   "cell_type": "code",
   "execution_count": 16,
   "id": "136e53ab-9b76-461d-b997-072b8db2d7d1",
   "metadata": {},
   "outputs": [],
   "source": [
    "#def ricci_tensor(X, Y):\n",
    "#    return (1/2) * (ricci_quadratic_form(X + Y) - ricci_quadratic_form(X) - ricci_quadratic_form(Y))\n",
    "\n",
    "def ricci_tensor(X, Y):\n",
    "    return (1/4) * (ricci_quadratic_form(X + Y) - ricci_quadratic_form(X - Y))"
   ]
  },
  {
   "cell_type": "code",
   "execution_count": 17,
   "id": "e03e60ad-ce05-4055-87d5-95753ed21cbd",
   "metadata": {},
   "outputs": [
    {
     "name": "stdout",
     "output_type": "stream",
     "text": [
      "CPU times: user 3.3 s, sys: 28 μs, total: 3.3 s\n",
      "Wall time: 3.3 s\n"
     ]
    },
    {
     "data": {
      "text/html": [
       "<html>\\(\\displaystyle -\\frac{3}{2} \\, r + 5\\)</html>"
      ],
      "text/latex": [
       "$\\displaystyle -\\frac{3}{2} \\, r + 5$"
      ],
      "text/plain": [
       "-3/2*r + 5"
      ]
     },
     "execution_count": 17,
     "metadata": {},
     "output_type": "execute_result"
    }
   ],
   "source": [
    "%time ricci_tensor(m_on_basis[7], m_on_basis[7])"
   ]
  },
  {
   "cell_type": "code",
   "execution_count": 18,
   "id": "de70b653-4d81-4931-980d-a14998d87370",
   "metadata": {},
   "outputs": [
    {
     "name": "stdout",
     "output_type": "stream",
     "text": [
      "CPU times: user 2.8 s, sys: 0 ns, total: 2.8 s\n",
      "Wall time: 2.8 s\n"
     ]
    },
    {
     "data": {
      "text/html": [
       "<html>\\(\\displaystyle \\frac{15}{2} \\, r\\)</html>"
      ],
      "text/latex": [
       "$\\displaystyle \\frac{15}{2} \\, r$"
      ],
      "text/plain": [
       "15/2*r"
      ]
     },
     "execution_count": 18,
     "metadata": {},
     "output_type": "execute_result"
    }
   ],
   "source": [
    "%time ricci_tensor(m_on_basis[2], m_on_basis[2])"
   ]
  },
  {
   "cell_type": "markdown",
   "id": "1f0b4aec-3e67-4541-b9f0-5eacc70ac5fd",
   "metadata": {},
   "source": [
    "## Proof of Remark 3.4\n",
    "\n",
    "Let $\\pi_{ij} = \\mathbb R X_i \\oplus \\mathbb R X_j$ for $3 \\le i < j \\le 13$. We compute the sectional curvature of $\\pi_{ij}$ for the metric $g = g_{\\frac23}$"
   ]
  },
  {
   "cell_type": "code",
   "execution_count": 19,
   "id": "ae16e375-f917-47a5-b671-ef6c7ef7ae4d",
   "metadata": {},
   "outputs": [
    {
     "name": "stdout",
     "output_type": "stream",
     "text": [
      "sectional curvature of pi34 added\n",
      "sectional curvature of pi35 added\n",
      "sectional curvature of pi36 added\n",
      "sectional curvature of pi37 added\n",
      "sectional curvature of pi38 added\n",
      "sectional curvature of pi39 added\n",
      "sectional curvature of pi310 added\n",
      "sectional curvature of pi311 added\n",
      "sectional curvature of pi312 added\n",
      "sectional curvature of pi313 added\n",
      "sectional curvature of pi45 added\n",
      "sectional curvature of pi46 added\n",
      "sectional curvature of pi47 added\n",
      "sectional curvature of pi48 added\n",
      "sectional curvature of pi49 added\n",
      "sectional curvature of pi410 added\n",
      "sectional curvature of pi411 added\n",
      "sectional curvature of pi412 added\n",
      "sectional curvature of pi413 added\n",
      "sectional curvature of pi56 added\n",
      "sectional curvature of pi57 added\n",
      "sectional curvature of pi58 added\n",
      "sectional curvature of pi59 added\n",
      "sectional curvature of pi510 added\n",
      "sectional curvature of pi511 added\n",
      "sectional curvature of pi512 added\n",
      "sectional curvature of pi513 added\n",
      "sectional curvature of pi67 added\n",
      "sectional curvature of pi68 added\n",
      "sectional curvature of pi69 added\n",
      "sectional curvature of pi610 added\n",
      "sectional curvature of pi611 added\n",
      "sectional curvature of pi612 added\n",
      "sectional curvature of pi613 added\n",
      "sectional curvature of pi78 added\n",
      "sectional curvature of pi79 added\n",
      "sectional curvature of pi710 added\n",
      "sectional curvature of pi711 added\n",
      "sectional curvature of pi712 added\n",
      "sectional curvature of pi713 added\n",
      "sectional curvature of pi89 added\n",
      "sectional curvature of pi810 added\n",
      "sectional curvature of pi811 added\n",
      "sectional curvature of pi812 added\n",
      "sectional curvature of pi813 added\n",
      "sectional curvature of pi910 added\n",
      "sectional curvature of pi911 added\n",
      "sectional curvature of pi912 added\n",
      "sectional curvature of pi913 added\n",
      "sectional curvature of pi1011 added\n",
      "sectional curvature of pi1012 added\n",
      "sectional curvature of pi1013 added\n",
      "sectional curvature of pi1112 added\n",
      "sectional curvature of pi1113 added\n",
      "sectional curvature of pi1213 added\n",
      "Done.\n"
     ]
    }
   ],
   "source": [
    "# long time\n",
    "sect_curv_dict_23 = {}\n",
    "for i in range(3,14):\n",
    "    for j in range(i+1, 14):\n",
    "        sect_curv_dict_23[(i,j)] = sec_curv(m_on_basis[i-3], m_on_basis[j-3]).subs(r=2/3)\n",
    "        print(\"sectional curvature of pi\" + str(i) + str(j) + \" added\")\n",
    "print(\"Done.\")"
   ]
  },
  {
   "cell_type": "markdown",
   "id": "6e2d0aa5-8e36-48e7-a426-4019165fff62",
   "metadata": {},
   "source": [
    "Finally, we check that the sectional curvature of $\\pi_{i,j}$ is negative if and only if $(i, j) = (3, 4)$."
   ]
  },
  {
   "cell_type": "code",
   "execution_count": 20,
   "id": "95c6ed38-f139-44b4-8a02-a3d3708f2f50",
   "metadata": {},
   "outputs": [
    {
     "name": "stdout",
     "output_type": "stream",
     "text": [
      "(3, 4)\n"
     ]
    }
   ],
   "source": [
    "for key in sect_curv_dict_23.keys():\n",
    "    if sect_curv_dict_23[key] < 0:\n",
    "        print(key)"
   ]
  },
  {
   "cell_type": "markdown",
   "id": "2e177639-f6a3-43b9-8d67-fc05159669d4",
   "metadata": {},
   "source": [
    "## Proof of Theorem 4.2\n",
    "\n",
    "Let us compute the Ricci tensor of $g_r$"
   ]
  },
  {
   "cell_type": "code",
   "execution_count": 21,
   "id": "f8eafb78-061e-4453-a957-39cd25f52e0c",
   "metadata": {},
   "outputs": [
    {
     "name": "stdout",
     "output_type": "stream",
     "text": [
      "entries (0,0) and (0,0) complete\n",
      "entries (0,1) and (1,0) complete\n",
      "entries (0,2) and (2,0) complete\n",
      "entries (0,3) and (3,0) complete\n",
      "entries (0,4) and (4,0) complete\n",
      "entries (0,5) and (5,0) complete\n",
      "entries (0,6) and (6,0) complete\n",
      "entries (0,7) and (7,0) complete\n",
      "entries (0,8) and (8,0) complete\n",
      "entries (0,9) and (9,0) complete\n",
      "entries (0,10) and (10,0) complete\n",
      "entries (1,1) and (1,1) complete\n",
      "entries (1,2) and (2,1) complete\n",
      "entries (1,3) and (3,1) complete\n",
      "entries (1,4) and (4,1) complete\n",
      "entries (1,5) and (5,1) complete\n",
      "entries (1,6) and (6,1) complete\n",
      "entries (1,7) and (7,1) complete\n",
      "entries (1,8) and (8,1) complete\n",
      "entries (1,9) and (9,1) complete\n",
      "entries (1,10) and (10,1) complete\n",
      "entries (2,2) and (2,2) complete\n",
      "entries (2,3) and (3,2) complete\n",
      "entries (2,4) and (4,2) complete\n",
      "entries (2,5) and (5,2) complete\n",
      "entries (2,6) and (6,2) complete\n",
      "entries (2,7) and (7,2) complete\n",
      "entries (2,8) and (8,2) complete\n",
      "entries (2,9) and (9,2) complete\n",
      "entries (2,10) and (10,2) complete\n",
      "entries (3,3) and (3,3) complete\n",
      "entries (3,4) and (4,3) complete\n",
      "entries (3,5) and (5,3) complete\n",
      "entries (3,6) and (6,3) complete\n",
      "entries (3,7) and (7,3) complete\n",
      "entries (3,8) and (8,3) complete\n",
      "entries (3,9) and (9,3) complete\n",
      "entries (3,10) and (10,3) complete\n",
      "entries (4,4) and (4,4) complete\n",
      "entries (4,5) and (5,4) complete\n",
      "entries (4,6) and (6,4) complete\n",
      "entries (4,7) and (7,4) complete\n",
      "entries (4,8) and (8,4) complete\n",
      "entries (4,9) and (9,4) complete\n",
      "entries (4,10) and (10,4) complete\n",
      "entries (5,5) and (5,5) complete\n",
      "entries (5,6) and (6,5) complete\n",
      "entries (5,7) and (7,5) complete\n",
      "entries (5,8) and (8,5) complete\n",
      "entries (5,9) and (9,5) complete\n",
      "entries (5,10) and (10,5) complete\n",
      "entries (6,6) and (6,6) complete\n",
      "entries (6,7) and (7,6) complete\n",
      "entries (6,8) and (8,6) complete\n",
      "entries (6,9) and (9,6) complete\n",
      "entries (6,10) and (10,6) complete\n",
      "entries (7,7) and (7,7) complete\n",
      "entries (7,8) and (8,7) complete\n",
      "entries (7,9) and (9,7) complete\n",
      "entries (7,10) and (10,7) complete\n",
      "entries (8,8) and (8,8) complete\n",
      "entries (8,9) and (9,8) complete\n",
      "entries (8,10) and (10,8) complete\n",
      "entries (9,9) and (9,9) complete\n",
      "entries (9,10) and (10,9) complete\n",
      "entries (10,10) and (10,10) complete\n",
      "Done.\n"
     ]
    }
   ],
   "source": [
    "Ric = matrix(SR, 11, 11)\n",
    "\n",
    "# very long time\n",
    "for i in range(11):\n",
    "    for j in range(i, 11):\n",
    "        Ric[i,j] = Ric[j, i] = ricci_tensor(m_on_basis[i], m_on_basis[j]).canonicalize_radical()\n",
    "        print('entries ('+ str(i) + ',' +str(j) + ') and (' + str(j) + ',' + str(i) + ') complete')\n",
    "print(\"Done.\")"
   ]
  },
  {
   "cell_type": "code",
   "execution_count": 22,
   "id": "1c08390f-17f6-42ba-bd6e-1c9910ee8180",
   "metadata": {},
   "outputs": [
    {
     "data": {
      "text/html": [
       "<html>\\(\\displaystyle \\mathrm{True}\\)</html>"
      ],
      "text/latex": [
       "$\\displaystyle \\mathrm{True}$"
      ],
      "text/plain": [
       "True"
      ]
     },
     "metadata": {},
     "output_type": "display_data"
    },
    {
     "data": {
      "text/html": [
       "<html>\\(\\displaystyle \\left[-\\frac{3}{2} \\, r + 5, -\\frac{3}{2} \\, r + 5, \\frac{15}{2} \\, r, -\\frac{3}{2} \\, r + 5, -\\frac{3}{2} \\, r + 5, -\\frac{3}{2} \\, r + 5, -\\frac{3}{2} \\, r + 5, -\\frac{3}{2} \\, r + 5, -\\frac{3}{2} \\, r + 5, -\\frac{3}{2} \\, r + 5, -\\frac{3}{2} \\, r + 5\\right]\\)</html>"
      ],
      "text/latex": [
       "$\\displaystyle \\left[-\\frac{3}{2} \\, r + 5, -\\frac{3}{2} \\, r + 5, \\frac{15}{2} \\, r, -\\frac{3}{2} \\, r + 5, -\\frac{3}{2} \\, r + 5, -\\frac{3}{2} \\, r + 5, -\\frac{3}{2} \\, r + 5, -\\frac{3}{2} \\, r + 5, -\\frac{3}{2} \\, r + 5, -\\frac{3}{2} \\, r + 5, -\\frac{3}{2} \\, r + 5\\right]$"
      ],
      "text/plain": [
       "[-3/2*r + 5,\n",
       " -3/2*r + 5,\n",
       " 15/2*r,\n",
       " -3/2*r + 5,\n",
       " -3/2*r + 5,\n",
       " -3/2*r + 5,\n",
       " -3/2*r + 5,\n",
       " -3/2*r + 5,\n",
       " -3/2*r + 5,\n",
       " -3/2*r + 5,\n",
       " -3/2*r + 5]"
      ]
     },
     "execution_count": 22,
     "metadata": {},
     "output_type": "execute_result"
    }
   ],
   "source": [
    "display(Ric.is_diagonal())\n",
    "Ric.diagonal()"
   ]
  },
  {
   "cell_type": "markdown",
   "id": "1b0e4643-ef17-479b-9c5c-da7f9fc3d373",
   "metadata": {},
   "source": [
    "It follows that $g_r$ is an Einstein metric if and only if $r = \\frac59$."
   ]
  },
  {
   "cell_type": "code",
   "execution_count": 23,
   "id": "8861bcca-157b-498c-8e92-0b2c968708e8",
   "metadata": {},
   "outputs": [
    {
     "data": {
      "text/html": [
       "<html>\\(\\displaystyle \\left[r = \\left(\\frac{5}{9}\\right)\\right]\\)</html>"
      ],
      "text/latex": [
       "$\\displaystyle \\left[r = \\left(\\frac{5}{9}\\right)\\right]$"
      ],
      "text/plain": [
       "[r == (5/9)]"
      ]
     },
     "execution_count": 23,
     "metadata": {},
     "output_type": "execute_result"
    }
   ],
   "source": [
    "solve(Ric[0,0] == Ric[2,2], r)"
   ]
  },
  {
   "cell_type": "code",
   "execution_count": 24,
   "id": "b2aca9c0-1384-4298-8238-fe01fca80424",
   "metadata": {},
   "outputs": [
    {
     "data": {
      "text/html": [
       "<html>\\(\\displaystyle \\mathrm{True}\\)</html>"
      ],
      "text/latex": [
       "$\\displaystyle \\mathrm{True}$"
      ],
      "text/plain": [
       "True"
      ]
     },
     "execution_count": 24,
     "metadata": {},
     "output_type": "execute_result"
    }
   ],
   "source": [
    "Ric.subs(r=5/9) == 25/6 * identity_matrix(11)"
   ]
  },
  {
   "cell_type": "markdown",
   "id": "7523c57d-1ac6-439a-9585-c8c0b8ceb4eb",
   "metadata": {},
   "source": [
    "We also compute the scalar curvature and check that it is positive if and only of $r < \\frac{20}{3}$."
   ]
  },
  {
   "cell_type": "code",
   "execution_count": 25,
   "id": "71a92696-40cc-41a6-a1be-eacf4c962d8c",
   "metadata": {},
   "outputs": [
    {
     "data": {
      "text/html": [
       "<html>\\(\\displaystyle -\\frac{15}{2} \\, r + 50\\)</html>"
      ],
      "text/latex": [
       "$\\displaystyle -\\frac{15}{2} \\, r + 50$"
      ],
      "text/plain": [
       "-15/2*r + 50"
      ]
     },
     "metadata": {},
     "output_type": "display_data"
    },
    {
     "data": {
      "text/html": [
       "<html>\\(\\displaystyle \\left[r = \\left(\\frac{20}{3}\\right)\\right]\\)</html>"
      ],
      "text/latex": [
       "$\\displaystyle \\left[r = \\left(\\frac{20}{3}\\right)\\right]$"
      ],
      "text/plain": [
       "[r == (20/3)]"
      ]
     },
     "execution_count": 25,
     "metadata": {},
     "output_type": "execute_result"
    }
   ],
   "source": [
    "scal = Ric.trace()\n",
    "display(scal)\n",
    "solve(scal, r)"
   ]
  },
  {
   "cell_type": "markdown",
   "id": "e0e436d4-1ff3-4012-b068-82d65a83c82e",
   "metadata": {},
   "source": [
    "## Proof of Theorem 4.4 - Part 0\n",
    "\n",
    "Let $Y_3, \\ldots, Y_{13}$ be the $g_r$-orthonormal basis of $\\mathfrak m$ obtained from normalizing $X_3, \\ldots, X_{13}$. We construct the polynomial \n",
    "\\begin{equation*}\n",
    "  F_r = g_r(R_{X, Y}X, Y) \\in \\mathbb R[x_0, \\ldots, x_{21}],\n",
    "\\end{equation*}\n",
    "where\n",
    "\\begin{align*}\n",
    "  X = \\sum_{i = 3}^{13} x_{i - 3} Y_i && Y = \\sum_{i = 3}^{13} x_{i + 8} Y_i.\n",
    "\\end{align*} \n",
    "\n"
   ]
  },
  {
   "cell_type": "code",
   "execution_count": 26,
   "id": "dceebe37-b2a1-48ff-b2a8-ab6aa3167d02",
   "metadata": {},
   "outputs": [],
   "source": [
    "x_vars = [var(\"x\" + str(i)) for i in range(22)]\n",
    "X = sum(x_vars[i] * m_on_basis[i] for i in range(11)).canonicalize_radical()\n",
    "Y = sum(x_vars[i+11] * m_on_basis[i] for i in range(11)).canonicalize_radical()"
   ]
  },
  {
   "cell_type": "code",
   "execution_count": 27,
   "id": "e29d00d2-1dba-418a-b43a-91e279b43193",
   "metadata": {},
   "outputs": [
    {
     "name": "stdout",
     "output_type": "stream",
     "text": [
      "CPU times: user 38.9 s, sys: 130 ms, total: 39 s\n",
      "Wall time: 25.7 s\n"
     ]
    }
   ],
   "source": [
    "# long time\n",
    "%time F = sec_curv(X, Y).canonicalize_radical()"
   ]
  },
  {
   "cell_type": "code",
   "execution_count": 28,
   "id": "e12a2840-e73c-467a-bf43-a273fc437614",
   "metadata": {},
   "outputs": [
    {
     "name": "stdout",
     "output_type": "stream",
     "text": [
      "1/2*(9*r - 4)*x0*x1*x11*x12 - 1/4*((9*r - 4)*x1^2 - 2*x10^2)*x11^2 - 1/4*((9*r - 4)*x0^2 - 2*x10^2)*x12^2 + 3/4*(r*x0^2 + r*x1^2 + r*x10^2)*x13^2 + 1/2*(x0^2 + x1^2 + x10^2)*x14^2 + 1/2*(x0^2 + x1^2)*x15^2 + 1/2*(x0^2 + x1^2)*x16^2 + 1/2*(x0^2 + x1^2 + x10^2)*x17^2 - 1/4*((9*r - 8)*x10^2 - 2*x0^2 - 2*x1^2)*x18^2 + 1/2*(x0^2 + x1^2 + x10^2)*x19^2 - 3/2*(r*x0*x11 + r*x1*x12)*x13*x2 + 3/4*(r*x11^2 + r*x12^2 + r*x14^2 + r*x15^2 + r*x16^2 + r*x17^2 + r*x18^2 + r*x19^2)*x2^2 + 1/4*(3*r*x2^2 + 2*x0^2 + 2*x1^2 + 2*x10^2)*x20^2 + 1/4*(3*r*x2^2 + 2*x0^2 + 2*x1^2)*x21^2 + 1/4*(3*r*x13^2 - (9*r - 8)*x17^2 + 2*x11^2 + 2*x12^2 + 2*x15^2 + 2*x16^2 + 2*x18^2 + 2*x21^2)*x3^2 + 1/4*(3*r*x13^2 - (9*r - 8)*x16^2 + 2*x11^2 + 2*x12^2 + 2*x14^2 + 2*x17^2 + 2*x19^2 + 2*x20^2)*x4^2 + 1/4*(3*r*x13^2 - (9*r - 8)*x15^2 + 2*x11^2 + 2*x12^2 + 2*x14^2 + 2*x17^2 + 2*x19^2 + 2*x20^2)*x5^2 + 1/4*(3*r*x13^2 - (9*r - 8)*x14^2 + 2*x11^2 + 2*x12^2 + 2*x15^2 + 2*x16^2 + 2*x18^2 + 2*x21^2)*x6^2 + 1/4*(3*r*x13^2 - (9*r - 8)*x21^2 + 2*x11^2 + 2*x12^2 + 2*x14^2 + 2*x17^2 + 2*x19^2 + 2*x20^2)*x7^2 + 1/4*(3*r*x13^2 - (9*r - 8)*x20^2 + 2*x11^2 + 2*x12^2 + 2*x15^2 + 2*x16^2 + 2*x18^2 + 2*x21^2)*x8^2 + 1/4*(3*r*x13^2 - (9*r - 8)*x19^2 + 2*x11^2 + 2*x12^2 + 2*x15^2 + 2*x16^2 + 2*x18^2 + 2*x21^2)*x9^2 - (x1*x10*x11 + x0*x10*x12)*x15 + (x0*x10*x11 - x1*x10*x12)*x16 + 1/2*(3*(3*r - 2)*x1*x10*x11 - 3*(3*r - 2)*x0*x10*x12 - 4*x0*x1*x16 - 2*(x0^2 - x1^2)*x15)*x18 - (2*x0*x1*x17 - (x0^2 - x1^2)*x14)*x19 + (2*x0*x1*x14 + (x0^2 - x1^2)*x17)*x20 - 1/2*(3*r*x10*x13*x2 + 2*x0*x10*x11 + 2*x1*x10*x12 - 4*x0*x1*x15 + 2*(x0^2 - x1^2)*x16)*x21 + 1/2*(3*(3*r - 2)*x10*x17*x18 - 3*r*x13*x14*x2 - 2*x10*x14*x21 - 2*(x0*x11 + x1*x12)*x14 - 3*((3*r - 2)*x1*x11 - (3*r - 2)*x0*x12)*x17 - 2*(x0*x11 - x1*x12 - x10*x16)*x19 - 2*(x1*x11 + x0*x12 + x10*x15)*x20)*x3 - 1/2*(3*r*x13*x15*x2 - 4*x10*x11*x12 + 4*x10*x17*x19 - 4*x10*x14*x20 + 2*(x0*x11 + x1*x12)*x15 - 3*((3*r - 2)*x1*x11 - (3*r - 2)*x0*x12)*x16 + (9*r*x10*x16 - 2*x0*x11 + 2*x1*x12)*x18 + 2*(x1*x11 + x0*x12)*x21 - (3*(3*r - 2)*x16*x17 - 2*x14*x15 + 2*x18*x19 - 2*x20*x21)*x3)*x4 - 1/2*(3*r*x13*x16*x2 - (9*r - 8)*x15*x16*x4 + 2*x10*x11^2 - 2*x10*x12^2 + 4*x10*x14*x19 + 4*x10*x17*x20 + 3*((3*r - 2)*x1*x11 - (3*r - 2)*x0*x12)*x15 + 2*(x0*x11 + x1*x12)*x16 - (9*r*x10*x15 + 2*x1*x11 + 2*x0*x12)*x18 - 2*(x0*x11 - x1*x12)*x21 + (3*(3*r - 2)*x15*x17 + 2*x14*x16 - 2*x18*x20 - 2*x19*x21)*x3)*x5 - 1/2*(3*(3*r - 2)*x10*x14*x18 + 3*r*x13*x17*x2 - (9*r - 8)*x14*x17*x3 + 2*x10*x17*x21 - 3*((3*r - 2)*x1*x11 - (3*r - 2)*x0*x12)*x14 + 2*(x0*x11 + x1*x12)*x17 - 2*(x1*x11 + x0*x12 + x10*x15)*x19 + 2*(x0*x11 - x1*x12 - x10*x16)*x20 + (3*(3*r - 2)*x14*x16 + 2*x15*x17 - 2*x18*x20 - 2*x19*x21)*x4 - (3*(3*r - 2)*x14*x15 - 2*x16*x17 - 2*x18*x19 + 2*x20*x21)*x5)*x6 - 1/2*(3*r*x13*x18*x2 - 2*(x0*x11 - x1*x12)*x15 - 2*(x1*x11 + x0*x12)*x16 + 2*(x0*x11 + x1*x12)*x18 + (3*(3*r - 2)*x1*x11 - 3*(3*r - 2)*x0*x12 - (9*r - 8)*x10*x18)*x21 + (3*(3*r - 2)*x17*x21 + 2*x14*x18 - 2*x15*x19 - 2*x16*x20)*x3 - (9*r*x16*x21 - 2*x11^2 + 2*x12^2 - 4*x14*x19 - 4*x17*x20)*x4 + (9*r*x15*x21 + 4*x11*x12 - 4*x17*x19 + 4*x14*x20)*x5 - (3*(3*r - 2)*x14*x21 - 2*x17*x18 - 2*x16*x19 + 2*x15*x20)*x6)*x7 - 1/2*(3*r*x13*x19*x2 - 2*x10*x14*x16 + 2*x10*x19*x21 + 2*(x0*x11 - x1*x12)*x14 - 2*(x1*x11 + x0*x12 + x10*x15)*x17 + 2*(x0*x11 + x1*x12)*x19 - 3*((3*r - 2)*x1*x11 - (3*r - 2)*x0*x12 - (3*r - 2)*x10*x18)*x20 - (9*r*x17*x20 + 2*x11^2 - 2*x12^2 - 4*x15*x18 - 4*x16*x21)*x3 + (3*(3*r - 2)*x16*x20 - 2*x14*x18 + 2*x15*x19 - 2*x17*x21)*x4 - (3*(3*r - 2)*x15*x20 - 2*x17*x18 - 2*x16*x19 + 2*x14*x21)*x5 + (9*r*x14*x20 + 4*x11*x12 - 4*x16*x18 + 4*x15*x21)*x6 - (3*(3*r - 2)*x20*x21 + 2*x14*x15 - 2*x16*x17 - 2*x18*x19)*x7)*x8 + 1/2*((9*r - 8)*x19*x20*x8 - 2*x10*x14*x15 - 2*x10*x20*x21 - 2*(x1*x11 + x0*x12)*x14 - 2*(x0*x11 - x1*x12 - x10*x16)*x17 - 3*((3*r - 2)*x1*x11 - (3*r - 2)*x0*x12 - (3*r - 2)*x10*x18)*x19 - (3*r*x13*x2 + 2*x0*x11 + 2*x1*x12)*x20 - (9*r*x17*x19 - 4*x11*x12 + 4*x16*x18 - 4*x15*x21)*x3 + (3*(3*r - 2)*x16*x19 + 2*x17*x18 - 2*x15*x20 - 2*x14*x21)*x4 - (3*(3*r - 2)*x15*x19 - 2*x14*x18 + 2*x16*x20 - 2*x17*x21)*x5 + (9*r*x14*x19 + 2*x11^2 - 2*x12^2 - 4*x15*x18 - 4*x16*x21)*x6 - (3*(3*r - 2)*x19*x21 - 2*x14*x16 - 2*x15*x17 + 2*x18*x20)*x7)*x9\n"
     ]
    }
   ],
   "source": [
    "print(F)"
   ]
  },
  {
   "cell_type": "code",
   "execution_count": 29,
   "id": "37308f46-3e16-4041-b532-7adb54fbc93f",
   "metadata": {},
   "outputs": [],
   "source": [
    "#save(F, \"F\")"
   ]
  },
  {
   "cell_type": "markdown",
   "id": "264b8318-2860-40ce-ae33-f7ae3b571a9a",
   "metadata": {},
   "source": [
    "We check that $F$ is linear in $r$."
   ]
  },
  {
   "cell_type": "code",
   "execution_count": 30,
   "id": "b88932c8-0e13-4242-8be0-a9f48efff9a1",
   "metadata": {},
   "outputs": [
    {
     "data": {
      "text/html": [
       "<html>\\(\\displaystyle 0\\)</html>"
      ],
      "text/latex": [
       "$\\displaystyle 0$"
      ],
      "text/plain": [
       "0"
      ]
     },
     "execution_count": 30,
     "metadata": {},
     "output_type": "execute_result"
    }
   ],
   "source": [
    "F.diff(r,2)"
   ]
  },
  {
   "cell_type": "markdown",
   "id": "568acbd0-31e8-46c8-b97f-4238f0699ee2",
   "metadata": {},
   "source": [
    "### Simplified expression for $F$\n",
    "\n",
    "We get a better formula for $F$ using the `PolynomialRing()` function provided by SageMath. In particular, this allows us to order the monomials with the lexicographic order."
   ]
  },
  {
   "cell_type": "code",
   "execution_count": 31,
   "id": "455575ef-4331-41cb-b184-c4624be348d7",
   "metadata": {},
   "outputs": [],
   "source": [
    "R.<x0,x1,x2,x3,x4,x5,x6,x7,x8,x9,x10,x11,x12,x13,x14,x15,x16,x17,x18,x19,x20,x21> = PolynomialRing(SR,order=\"lex\")\n",
    "r = var(\"r\")\n",
    "F1 = 1/2*(9*r - 4)*x0*x1*x11*x12 - 1/4*((9*r - 4)*x1^2 - 2*x10^2)*x11^2 - 1/4*((9*r - 4)*x0^2 - 2*x10^2)*x12^2 + 3/4*(r*x0^2 + r*x1^2 + r*x10^2)*x13^2 + 1/2*(x0^2 + x1^2 + x10^2)*x14^2 + 1/2*(x0^2 + x1^2)*x15^2 + 1/2*(x0^2 + x1^2)*x16^2 + 1/2*(x0^2 + x1^2 + x10^2)*x17^2 - 1/4*((9*r - 8)*x10^2 - 2*x0^2 - 2*x1^2)*x18^2 + 1/2*(x0^2 + x1^2 + x10^2)*x19^2 - 3/2*(r*x0*x11 + r*x1*x12)*x13*x2 + 3/4*(r*x11^2 + r*x12^2 + r*x14^2 + r*x15^2 + r*x16^2 + r*x17^2 + r*x18^2 + r*x19^2)*x2^2 + 1/4*(3*r*x2^2 + 2*x0^2 + 2*x1^2 + 2*x10^2)*x20^2 + 1/4*(3*r*x2^2 + 2*x0^2 + 2*x1^2)*x21^2 + 1/4*(3*r*x13^2 - (9*r - 8)*x17^2 + 2*x11^2 + 2*x12^2 + 2*x15^2 + 2*x16^2 + 2*x18^2 + 2*x21^2)*x3^2 + 1/4*(3*r*x13^2 - (9*r - 8)*x16^2 + 2*x11^2 + 2*x12^2 + 2*x14^2 + 2*x17^2 + 2*x19^2 + 2*x20^2)*x4^2 + 1/4*(3*r*x13^2 - (9*r - 8)*x15^2 + 2*x11^2 + 2*x12^2 + 2*x14^2 + 2*x17^2 + 2*x19^2 + 2*x20^2)*x5^2 + 1/4*(3*r*x13^2 - (9*r - 8)*x14^2 + 2*x11^2 + 2*x12^2 + 2*x15^2 + 2*x16^2 + 2*x18^2 + 2*x21^2)*x6^2 + 1/4*(3*r*x13^2 - (9*r - 8)*x21^2 + 2*x11^2 + 2*x12^2 + 2*x14^2 + 2*x17^2 + 2*x19^2 + 2*x20^2)*x7^2 + 1/4*(3*r*x13^2 - (9*r - 8)*x20^2 + 2*x11^2 + 2*x12^2 + 2*x15^2 + 2*x16^2 + 2*x18^2 + 2*x21^2)*x8^2 + 1/4*(3*r*x13^2 - (9*r - 8)*x19^2 + 2*x11^2 + 2*x12^2 + 2*x15^2 + 2*x16^2 + 2*x18^2 + 2*x21^2)*x9^2 - (x1*x10*x11 + x0*x10*x12)*x15 + (x0*x10*x11 - x1*x10*x12)*x16 + 1/2*(3*(3*r - 2)*x1*x10*x11 - 3*(3*r - 2)*x0*x10*x12 - 4*x0*x1*x16 - 2*(x0^2 - x1^2)*x15)*x18 - (2*x0*x1*x17 - (x0^2 - x1^2)*x14)*x19 + (2*x0*x1*x14 + (x0^2 - x1^2)*x17)*x20 - 1/2*(3*r*x10*x13*x2 + 2*x0*x10*x11 + 2*x1*x10*x12 - 4*x0*x1*x15 + 2*(x0^2 - x1^2)*x16)*x21 + 1/2*(3*(3*r - 2)*x10*x17*x18 - 3*r*x13*x14*x2 - 2*x10*x14*x21 - 2*(x0*x11 + x1*x12)*x14 - 3*((3*r - 2)*x1*x11 - (3*r - 2)*x0*x12)*x17 - 2*(x0*x11 - x1*x12 - x10*x16)*x19 - 2*(x1*x11 + x0*x12 + x10*x15)*x20)*x3 - 1/2*(3*r*x13*x15*x2 - 4*x10*x11*x12 + 4*x10*x17*x19 - 4*x10*x14*x20 + 2*(x0*x11 + x1*x12)*x15 - 3*((3*r - 2)*x1*x11 - (3*r - 2)*x0*x12)*x16 + (9*r*x10*x16 - 2*x0*x11 + 2*x1*x12)*x18 + 2*(x1*x11 + x0*x12)*x21 - (3*(3*r - 2)*x16*x17 - 2*x14*x15 + 2*x18*x19 - 2*x20*x21)*x3)*x4 - 1/2*(3*r*x13*x16*x2 - (9*r - 8)*x15*x16*x4 + 2*x10*x11^2 - 2*x10*x12^2 + 4*x10*x14*x19 + 4*x10*x17*x20 + 3*((3*r - 2)*x1*x11 - (3*r - 2)*x0*x12)*x15 + 2*(x0*x11 + x1*x12)*x16 - (9*r*x10*x15 + 2*x1*x11 + 2*x0*x12)*x18 - 2*(x0*x11 - x1*x12)*x21 + (3*(3*r - 2)*x15*x17 + 2*x14*x16 - 2*x18*x20 - 2*x19*x21)*x3)*x5 - 1/2*(3*(3*r - 2)*x10*x14*x18 + 3*r*x13*x17*x2 - (9*r - 8)*x14*x17*x3 + 2*x10*x17*x21 - 3*((3*r - 2)*x1*x11 - (3*r - 2)*x0*x12)*x14 + 2*(x0*x11 + x1*x12)*x17 - 2*(x1*x11 + x0*x12 + x10*x15)*x19 + 2*(x0*x11 - x1*x12 - x10*x16)*x20 + (3*(3*r - 2)*x14*x16 + 2*x15*x17 - 2*x18*x20 - 2*x19*x21)*x4 - (3*(3*r - 2)*x14*x15 - 2*x16*x17 - 2*x18*x19 + 2*x20*x21)*x5)*x6 - 1/2*(3*r*x13*x18*x2 - 2*(x0*x11 - x1*x12)*x15 - 2*(x1*x11 + x0*x12)*x16 + 2*(x0*x11 + x1*x12)*x18 + (3*(3*r - 2)*x1*x11 - 3*(3*r - 2)*x0*x12 - (9*r - 8)*x10*x18)*x21 + (3*(3*r - 2)*x17*x21 + 2*x14*x18 - 2*x15*x19 - 2*x16*x20)*x3 - (9*r*x16*x21 - 2*x11^2 + 2*x12^2 - 4*x14*x19 - 4*x17*x20)*x4 + (9*r*x15*x21 + 4*x11*x12 - 4*x17*x19 + 4*x14*x20)*x5 - (3*(3*r - 2)*x14*x21 - 2*x17*x18 - 2*x16*x19 + 2*x15*x20)*x6)*x7 - 1/2*(3*r*x13*x19*x2 - 2*x10*x14*x16 + 2*x10*x19*x21 + 2*(x0*x11 - x1*x12)*x14 - 2*(x1*x11 + x0*x12 + x10*x15)*x17 + 2*(x0*x11 + x1*x12)*x19 - 3*((3*r - 2)*x1*x11 - (3*r - 2)*x0*x12 - (3*r - 2)*x10*x18)*x20 - (9*r*x17*x20 + 2*x11^2 - 2*x12^2 - 4*x15*x18 - 4*x16*x21)*x3 + (3*(3*r - 2)*x16*x20 - 2*x14*x18 + 2*x15*x19 - 2*x17*x21)*x4 - (3*(3*r - 2)*x15*x20 - 2*x17*x18 - 2*x16*x19 + 2*x14*x21)*x5 + (9*r*x14*x20 + 4*x11*x12 - 4*x16*x18 + 4*x15*x21)*x6 - (3*(3*r - 2)*x20*x21 + 2*x14*x15 - 2*x16*x17 - 2*x18*x19)*x7)*x8 + 1/2*((9*r - 8)*x19*x20*x8 - 2*x10*x14*x15 - 2*x10*x20*x21 - 2*(x1*x11 + x0*x12)*x14 - 2*(x0*x11 - x1*x12 - x10*x16)*x17 - 3*((3*r - 2)*x1*x11 - (3*r - 2)*x0*x12 - (3*r - 2)*x10*x18)*x19 - (3*r*x13*x2 + 2*x0*x11 + 2*x1*x12)*x20 - (9*r*x17*x19 - 4*x11*x12 + 4*x16*x18 - 4*x15*x21)*x3 + (3*(3*r - 2)*x16*x19 + 2*x17*x18 - 2*x15*x20 - 2*x14*x21)*x4 - (3*(3*r - 2)*x15*x19 - 2*x14*x18 + 2*x16*x20 - 2*x17*x21)*x5 + (9*r*x14*x19 + 2*x11^2 - 2*x12^2 - 4*x15*x18 - 4*x16*x21)*x6 - (3*(3*r - 2)*x19*x21 - 2*x14*x16 - 2*x15*x17 + 2*x18*x20)*x7)*x9"
   ]
  },
  {
   "cell_type": "code",
   "execution_count": 32,
   "id": "d8457617-1731-49b5-9edf-53a60549ef31",
   "metadata": {},
   "outputs": [
    {
     "name": "stdout",
     "output_type": "stream",
     "text": [
      "(-9/4*r + 1)*x0^2*x12^2 + 3/4*r*x0^2*x13^2 + 1/2*x0^2*x14^2 + x0^2*x14*x19 + 1/2*x0^2*x15^2 - x0^2*x15*x18 + 1/2*x0^2*x16^2 - x0^2*x16*x21 + 1/2*x0^2*x17^2 + x0^2*x17*x20 + 1/2*x0^2*x18^2 + 1/2*x0^2*x19^2 + 1/2*x0^2*x20^2 + 1/2*x0^2*x21^2 + (9/2*r - 2)*x0*x1*x11*x12 + 2*x0*x1*x14*x20 + 2*x0*x1*x15*x21 + (-2)*x0*x1*x16*x18 + (-2)*x0*x1*x17*x19 + (-3/2*r)*x0*x2*x11*x13 - x0*x3*x11*x14 - x0*x3*x11*x19 + (9/2*r - 3)*x0*x3*x12*x17 - x0*x3*x12*x20 - x0*x4*x11*x15 + x0*x4*x11*x18 + (-9/2*r + 3)*x0*x4*x12*x16 - x0*x4*x12*x21 - x0*x5*x11*x16 + x0*x5*x11*x21 + (9/2*r - 3)*x0*x5*x12*x15 + x0*x5*x12*x18 - x0*x6*x11*x17 - x0*x6*x11*x20 + (-9/2*r + 3)*x0*x6*x12*x14 + x0*x6*x12*x19 + x0*x7*x11*x15 - x0*x7*x11*x18 + x0*x7*x12*x16 + (9/2*r - 3)*x0*x7*x12*x21 - x0*x8*x11*x14 - x0*x8*x11*x19 + x0*x8*x12*x17 + (-9/2*r + 3)*x0*x8*x12*x20 - x0*x9*x11*x17 - x0*x9*x11*x20 - x0*x9*x12*x14 + (9/2*r - 3)*x0*x9*x12*x19 + x0*x10*x11*x16 - x0*x10*x11*x21 - x0*x10*x12*x15 + (-9/2*r + 3)*x0*x10*x12*x18 + (-9/4*r + 1)*x1^2*x11^2 + 3/4*r*x1^2*x13^2 + 1/2*x1^2*x14^2 - x1^2*x14*x19 + 1/2*x1^2*x15^2 + x1^2*x15*x18 + 1/2*x1^2*x16^2 + x1^2*x16*x21 + 1/2*x1^2*x17^2 - x1^2*x17*x20 + 1/2*x1^2*x18^2 + 1/2*x1^2*x19^2 + 1/2*x1^2*x20^2 + 1/2*x1^2*x21^2 + (-3/2*r)*x1*x2*x12*x13 + (-9/2*r + 3)*x1*x3*x11*x17 - x1*x3*x11*x20 - x1*x3*x12*x14 + x1*x3*x12*x19 + (9/2*r - 3)*x1*x4*x11*x16 - x1*x4*x11*x21 - x1*x4*x12*x15 - x1*x4*x12*x18 + (-9/2*r + 3)*x1*x5*x11*x15 + x1*x5*x11*x18 - x1*x5*x12*x16 - x1*x5*x12*x21 + (9/2*r - 3)*x1*x6*x11*x14 + x1*x6*x11*x19 - x1*x6*x12*x17 + x1*x6*x12*x20 + x1*x7*x11*x16 + (-9/2*r + 3)*x1*x7*x11*x21 - x1*x7*x12*x15 - x1*x7*x12*x18 + x1*x8*x11*x17 + (9/2*r - 3)*x1*x8*x11*x20 + x1*x8*x12*x14 - x1*x8*x12*x19 - x1*x9*x11*x14 + (-9/2*r + 3)*x1*x9*x11*x19 + x1*x9*x12*x17 - x1*x9*x12*x20 - x1*x10*x11*x15 + (9/2*r - 3)*x1*x10*x11*x18 - x1*x10*x12*x16 - x1*x10*x12*x21 + 3/4*r*x2^2*x11^2 + 3/4*r*x2^2*x12^2 + 3/4*r*x2^2*x14^2 + 3/4*r*x2^2*x15^2 + 3/4*r*x2^2*x16^2 + 3/4*r*x2^2*x17^2 + 3/4*r*x2^2*x18^2 + 3/4*r*x2^2*x19^2 + 3/4*r*x2^2*x20^2 + 3/4*r*x2^2*x21^2 + (-3/2*r)*x2*x3*x13*x14 + (-3/2*r)*x2*x4*x13*x15 + (-3/2*r)*x2*x5*x13*x16 + (-3/2*r)*x2*x6*x13*x17 + (-3/2*r)*x2*x7*x13*x18 + (-3/2*r)*x2*x8*x13*x19 + (-3/2*r)*x2*x9*x13*x20 + (-3/2*r)*x2*x10*x13*x21 + 1/2*x3^2*x11^2 + 1/2*x3^2*x12^2 + 3/4*r*x3^2*x13^2 + 1/2*x3^2*x15^2 + 1/2*x3^2*x16^2 + (-9/4*r + 2)*x3^2*x17^2 + 1/2*x3^2*x18^2 + 1/2*x3^2*x21^2 - x3*x4*x14*x15 + (9/2*r - 3)*x3*x4*x16*x17 + x3*x4*x18*x19 - x3*x4*x20*x21 - x3*x5*x14*x16 + (-9/2*r + 3)*x3*x5*x15*x17 + x3*x5*x18*x20 + x3*x5*x19*x21 + (9/2*r - 4)*x3*x6*x14*x17 - x3*x7*x14*x18 + x3*x7*x15*x19 + x3*x7*x16*x20 + (-9/2*r + 3)*x3*x7*x17*x21 + x3*x8*x11^2 - x3*x8*x12^2 + (-2)*x3*x8*x15*x18 + (-2)*x3*x8*x16*x21 + 9/2*r*x3*x8*x17*x20 + 2*x3*x9*x11*x12 + 2*x3*x9*x15*x21 + (-2)*x3*x9*x16*x18 + (-9/2*r)*x3*x9*x17*x19 - x3*x10*x14*x21 - x3*x10*x15*x20 + x3*x10*x16*x19 + (9/2*r - 3)*x3*x10*x17*x18 + 1/2*x4^2*x11^2 + 1/2*x4^2*x12^2 + 3/4*r*x4^2*x13^2 + 1/2*x4^2*x14^2 + (-9/4*r + 2)*x4^2*x16^2 + 1/2*x4^2*x17^2 + 1/2*x4^2*x19^2 + 1/2*x4^2*x20^2 + (9/2*r - 4)*x4*x5*x15*x16 + (-9/2*r + 3)*x4*x6*x14*x16 - x4*x6*x15*x17 + x4*x6*x18*x20 + x4*x6*x19*x21 - x4*x7*x11^2 + x4*x7*x12^2 + (-2)*x4*x7*x14*x19 + 9/2*r*x4*x7*x16*x21 + (-2)*x4*x7*x17*x20 + x4*x8*x14*x18 - x4*x8*x15*x19 + (-9/2*r + 3)*x4*x8*x16*x20 + x4*x8*x17*x21 - x4*x9*x14*x21 - x4*x9*x15*x20 + (9/2*r - 3)*x4*x9*x16*x19 + x4*x9*x17*x18 + 2*x4*x10*x11*x12 + 2*x4*x10*x14*x20 + (-9/2*r)*x4*x10*x16*x18 + (-2)*x4*x10*x17*x19 + 1/2*x5^2*x11^2 + 1/2*x5^2*x12^2 + 3/4*r*x5^2*x13^2 + 1/2*x5^2*x14^2 + (-9/4*r + 2)*x5^2*x15^2 + 1/2*x5^2*x17^2 + 1/2*x5^2*x19^2 + 1/2*x5^2*x20^2 + (9/2*r - 3)*x5*x6*x14*x15 - x5*x6*x16*x17 - x5*x6*x18*x19 + x5*x6*x20*x21 + (-2)*x5*x7*x11*x12 + (-2)*x5*x7*x14*x20 + (-9/2*r)*x5*x7*x15*x21 + 2*x5*x7*x17*x19 + x5*x8*x14*x21 + (9/2*r - 3)*x5*x8*x15*x20 - x5*x8*x16*x19 - x5*x8*x17*x18 + x5*x9*x14*x18 + (-9/2*r + 3)*x5*x9*x15*x19 - x5*x9*x16*x20 + x5*x9*x17*x21 - x5*x10*x11^2 + x5*x10*x12^2 + (-2)*x5*x10*x14*x19 + 9/2*r*x5*x10*x15*x18 + (-2)*x5*x10*x17*x20 + 1/2*x6^2*x11^2 + 1/2*x6^2*x12^2 + 3/4*r*x6^2*x13^2 + (-9/4*r + 2)*x6^2*x14^2 + 1/2*x6^2*x15^2 + 1/2*x6^2*x16^2 + 1/2*x6^2*x18^2 + 1/2*x6^2*x21^2 + (9/2*r - 3)*x6*x7*x14*x21 + x6*x7*x15*x20 - x6*x7*x16*x19 - x6*x7*x17*x18 + (-2)*x6*x8*x11*x12 + (-9/2*r)*x6*x8*x14*x20 + (-2)*x6*x8*x15*x21 + 2*x6*x8*x16*x18 + x6*x9*x11^2 - x6*x9*x12^2 + 9/2*r*x6*x9*x14*x19 + (-2)*x6*x9*x15*x18 + (-2)*x6*x9*x16*x21 + (-9/2*r + 3)*x6*x10*x14*x18 + x6*x10*x15*x19 + x6*x10*x16*x20 - x6*x10*x17*x21 + 1/2*x7^2*x11^2 + 1/2*x7^2*x12^2 + 3/4*r*x7^2*x13^2 + 1/2*x7^2*x14^2 + 1/2*x7^2*x17^2 + 1/2*x7^2*x19^2 + 1/2*x7^2*x20^2 + (-9/4*r + 2)*x7^2*x21^2 + x7*x8*x14*x15 - x7*x8*x16*x17 - x7*x8*x18*x19 + (9/2*r - 3)*x7*x8*x20*x21 + x7*x9*x14*x16 + x7*x9*x15*x17 - x7*x9*x18*x20 + (-9/2*r + 3)*x7*x9*x19*x21 + (9/2*r - 4)*x7*x10*x18*x21 + 1/2*x8^2*x11^2 + 1/2*x8^2*x12^2 + 3/4*r*x8^2*x13^2 + 1/2*x8^2*x15^2 + 1/2*x8^2*x16^2 + 1/2*x8^2*x18^2 + (-9/4*r + 2)*x8^2*x20^2 + 1/2*x8^2*x21^2 + (9/2*r - 4)*x8*x9*x19*x20 + x8*x10*x14*x16 + x8*x10*x15*x17 + (-9/2*r + 3)*x8*x10*x18*x20 - x8*x10*x19*x21 + 1/2*x9^2*x11^2 + 1/2*x9^2*x12^2 + 3/4*r*x9^2*x13^2 + 1/2*x9^2*x15^2 + 1/2*x9^2*x16^2 + 1/2*x9^2*x18^2 + (-9/4*r + 2)*x9^2*x19^2 + 1/2*x9^2*x21^2 - x9*x10*x14*x15 + x9*x10*x16*x17 + (9/2*r - 3)*x9*x10*x18*x19 - x9*x10*x20*x21 + 1/2*x10^2*x11^2 + 1/2*x10^2*x12^2 + 3/4*r*x10^2*x13^2 + 1/2*x10^2*x14^2 + 1/2*x10^2*x17^2 + (-9/4*r + 2)*x10^2*x18^2 + 1/2*x10^2*x19^2 + 1/2*x10^2*x20^2\n"
     ]
    }
   ],
   "source": [
    "print(F1)"
   ]
  }
 ],
 "metadata": {
  "kernelspec": {
   "display_name": "SageMath 10.4",
   "language": "sage",
   "name": "sagemath"
  },
  "language_info": {
   "codemirror_mode": {
    "name": "ipython",
    "version": 3
   },
   "file_extension": ".py",
   "mimetype": "text/x-python",
   "name": "python",
   "nbconvert_exporter": "python",
   "pygments_lexer": "ipython3",
   "version": "3.12.5"
  }
 },
 "nbformat": 4,
 "nbformat_minor": 5
}
