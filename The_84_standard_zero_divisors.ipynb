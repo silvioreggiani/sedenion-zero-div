{
 "cells": [
  {
   "cell_type": "code",
   "execution_count": 1,
   "id": "b7e88537-d65c-4f5c-bbdf-93db457b2f4c",
   "metadata": {},
   "outputs": [
    {
     "data": {
      "text/html": [
       "<html>\\(\\displaystyle \\verb|SageMath|\\verb| |\\verb|version|\\verb| |\\verb|10.4,|\\verb| |\\verb|Release|\\verb| |\\verb|Date:|\\verb| |\\verb|2024-07-19|\\)</html>"
      ],
      "text/latex": [
       "$\\displaystyle \\verb|SageMath|\\verb| |\\verb|version|\\verb| |\\verb|10.4,|\\verb| |\\verb|Release|\\verb| |\\verb|Date:|\\verb| |\\verb|2024-07-19|$"
      ],
      "text/plain": [
       "'SageMath version 10.4, Release Date: 2024-07-19'"
      ]
     },
     "execution_count": 1,
     "metadata": {},
     "output_type": "execute_result"
    }
   ],
   "source": [
    "# SageMath version at least 10.4\n",
    "%display latex\n",
    "version()"
   ]
  },
  {
   "cell_type": "code",
   "execution_count": 2,
   "id": "27c25f14-b241-426e-ae69-31133b938440",
   "metadata": {},
   "outputs": [],
   "source": [
    "load(\"cayley-dickson.sage\")"
   ]
  },
  {
   "cell_type": "markdown",
   "id": "7b769a5e-ba26-4fa5-a154-c8557fa81e2a",
   "metadata": {},
   "source": [
    "## Standard zero divisors\n",
    "\n",
    "Let $e_0, \\ldots, e_{15}$ denote the canonical basis of $\\mathbb S$. The standard zero divisors of $\\mathbb S$ are a set of $84$ pairs of the form\n",
    "$$(e_a + e_b, e_c \\pm e_d) \\in \\mathcal Z(\\mathbb S)$$\n",
    "where\n",
    "$$1 \\le a \\le 6, \\qquad 9 \\le b \\le 15, \\qquad a < c \\le 7, \\qquad 9 \\le d \\le 15$$\n",
    "and such that \n",
    "$$(e_a + e_b) (e_c \\pm e_d) = 0$$"
   ]
  },
  {
   "cell_type": "code",
   "execution_count": 3,
   "id": "e78dfeaa-fe71-45c7-81e5-2c410cfd4cdc",
   "metadata": {},
   "outputs": [],
   "source": [
    "e = identity_matrix(SR, 16).rows()\n",
    "\n",
    "can_zero_div_indexes = []\n",
    "for a in range(7):\n",
    "    for b in range(9,16):\n",
    "        for c in range(a+1, 8):\n",
    "            for d in range(9, 16):\n",
    "                mult = prod_S(e[a]+e[b], e[c]+e[d])\n",
    "                if mult == 0:\n",
    "                    can_zero_div_indexes.append([a,b,c,d])\n",
    "                mult = prod_S(e[a]+e[b], e[c]-e[d])\n",
    "                if mult == 0:\n",
    "                    can_zero_div_indexes.append([a,b,c,-d])"
   ]
  },
  {
   "cell_type": "code",
   "execution_count": 4,
   "id": "2256b873-7ccb-41ed-8004-eaffb52c4729",
   "metadata": {},
   "outputs": [
    {
     "name": "stdout",
     "output_type": "stream",
     "text": [
      "[[1, 10, 4, -15], [1, 10, 5, 14], [1, 10, 6, -13], [1, 10, 7, 12], [1, 11, 4, 14], [1, 11, 5, 15], [1, 11, 6, -12], [1, 11, 7, -13], [1, 12, 2, 15], [1, 12, 3, -14], [1, 12, 6, 11], [1, 12, 7, -10], [1, 13, 2, -14], [1, 13, 3, -15], [1, 13, 6, 10], [1, 13, 7, 11], [1, 14, 2, 13], [1, 14, 3, 12], [1, 14, 4, -11], [1, 14, 5, -10], [1, 15, 2, -12], [1, 15, 3, 13], [1, 15, 4, 10], [1, 15, 5, -11], [2, 9, 4, 15], [2, 9, 5, -14], [2, 9, 6, 13], [2, 9, 7, -12], [2, 11, 4, -13], [2, 11, 5, 12], [2, 11, 6, 15], [2, 11, 7, -14], [2, 12, 3, 13], [2, 12, 5, -11], [2, 12, 7, 9], [2, 13, 3, -12], [2, 13, 4, 11], [2, 13, 6, -9], [2, 14, 3, -15], [2, 14, 5, 9], [2, 14, 7, 11], [2, 15, 3, 14], [2, 15, 4, -9], [2, 15, 6, -11], [3, 9, 4, -14], [3, 9, 5, -15], [3, 9, 6, 12], [3, 9, 7, 13], [3, 10, 4, 13], [3, 10, 5, -12], [3, 10, 6, -15], [3, 10, 7, 14], [3, 12, 5, 10], [3, 12, 6, -9], [3, 13, 4, -10], [3, 13, 7, -9], [3, 14, 4, 9], [3, 14, 7, -10], [3, 15, 5, 9], [3, 15, 6, 10], [4, 9, 6, -11], [4, 9, 7, 10], [4, 10, 5, 11], [4, 10, 7, -9], [4, 11, 5, -10], [4, 11, 6, 9], [4, 13, 6, 15], [4, 13, 7, -14], [4, 14, 5, -15], [4, 14, 7, 13], [4, 15, 5, 14], [4, 15, 6, -13], [5, 9, 6, -10], [5, 9, 7, -11], [5, 10, 6, 9], [5, 11, 7, 9], [5, 12, 6, -15], [5, 12, 7, 14], [5, 14, 7, -12], [5, 15, 6, 12], [6, 10, 7, -11], [6, 11, 7, 10], [6, 12, 7, -13], [6, 13, 7, 12]]\n"
     ]
    }
   ],
   "source": [
    "print(can_zero_div_indexes)"
   ]
  },
  {
   "cell_type": "code",
   "execution_count": 5,
   "id": "dabdd20e-95c6-48ac-a780-f5523ad983d4",
   "metadata": {},
   "outputs": [
    {
     "data": {
      "text/html": [
       "<html>\\(\\displaystyle 84\\)</html>"
      ],
      "text/latex": [
       "$\\displaystyle 84$"
      ],
      "text/plain": [
       "84"
      ]
     },
     "execution_count": 5,
     "metadata": {},
     "output_type": "execute_result"
    }
   ],
   "source": [
    "len(can_zero_div_indexes)"
   ]
  }
 ],
 "metadata": {
  "kernelspec": {
   "display_name": "SageMath 10.4",
   "language": "sage",
   "name": "sagemath"
  },
  "language_info": {
   "codemirror_mode": {
    "name": "ipython",
    "version": 3
   },
   "file_extension": ".py",
   "mimetype": "text/x-python",
   "name": "python",
   "nbconvert_exporter": "python",
   "pygments_lexer": "ipython3",
   "version": "3.12.5"
  }
 },
 "nbformat": 4,
 "nbformat_minor": 5
}
